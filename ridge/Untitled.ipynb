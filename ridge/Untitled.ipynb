{
 "cells": [
  {
   "cell_type": "code",
   "execution_count": 1,
   "metadata": {
    "collapsed": true
   },
   "outputs": [],
   "source": [
    "import pandas as pd\n",
    "import numpy as np\n",
    "\n",
    "dtype_dict = {'bathrooms':float, 'waterfront':int, 'sqft_above':int, 'sqft_living15':float, 'grade':int, 'yr_renovated':int, 'price':float, 'bedrooms':float, 'zipcode':str, 'long':float, 'sqft_lot15':float, 'sqft_living':float, 'floors':str, 'condition':int, 'lat':float, 'date':str, 'sqft_basement':int, 'yr_built':int, 'id':str, 'sqft_lot':int, 'view':int}"
   ]
  },
  {
   "cell_type": "code",
   "execution_count": 11,
   "metadata": {
    "collapsed": false
   },
   "outputs": [],
   "source": [
    "sales = pd.read_csv('kc_house_data.csv', dtype=dtype_dict)\n",
    "train_data = pd.read_csv('kc_house_train_data.csv', dtype = dtype_dict)\n",
    "test_data = pd.read_csv('kc_house_test_data.csv', dtype = dtype_dict)"
   ]
  },
  {
   "cell_type": "code",
   "execution_count": 7,
   "metadata": {
    "collapsed": true
   },
   "outputs": [],
   "source": [
    "def get_numpy_data(data_frame, features, output):\n",
    "    data_frame['constant'] = 1\n",
    "    features = ['constant'] + features\n",
    "    \n",
    "    features_frame = data_frame[features]\n",
    "    \n",
    "    features_matrix = features_frame.values\n",
    "    output_array = data_frame[output].values\n",
    "    \n",
    "    return features_matrix, output_array"
   ]
  },
  {
   "cell_type": "code",
   "execution_count": 9,
   "metadata": {
    "collapsed": true
   },
   "outputs": [],
   "source": [
    "def predict_output(features_matrix, weights):\n",
    "    return features_matrix.dot(np.transpose(weights))"
   ]
  },
  {
   "cell_type": "code",
   "execution_count": 16,
   "metadata": {
    "collapsed": true
   },
   "outputs": [],
   "source": [
    "def feature_derivative_ridge(errors, feature, weight, l2_penalty, feature_is_constant):   \n",
    "    derivative = errors.dot(feature) * 2 \n",
    "    if not feature_is_constant:\n",
    "        derivative += 2 * l2_penalty * weight\n",
    "    return derivative"
   ]
  },
  {
   "cell_type": "code",
   "execution_count": 17,
   "metadata": {
    "collapsed": false
   },
   "outputs": [
    {
     "name": "stdout",
     "output_type": "stream",
     "text": [
      "-5.6554166816e+13\n",
      "-5.6554166816e+13\n",
      "\n",
      "-22446749330.0\n",
      "-22446749330.0\n"
     ]
    }
   ],
   "source": [
    "(example_features, example_output) = get_numpy_data(sales, ['sqft_living'], 'price')\n",
    "my_weights = np.array([1., 10.])\n",
    "test_predictions = predict_output(example_features, my_weights)\n",
    "errors = test_predictions - example_output # prediction errors\n",
    "\n",
    "# next two lines should print the same values\n",
    "print feature_derivative_ridge(errors, example_features[:,1], my_weights[1], 1, False)\n",
    "print np.sum(errors*example_features[:,1])*2+20.\n",
    "print ''\n",
    "\n",
    "# next two lines should print the same values\n",
    "print feature_derivative_ridge(errors, example_features[:,0], my_weights[0], 1, True)\n",
    "print np.sum(errors)*2."
   ]
  },
  {
   "cell_type": "code",
   "execution_count": 30,
   "metadata": {
    "collapsed": true
   },
   "outputs": [],
   "source": [
    "def ridge_regression_gradient_descent(features_matrix, output, initial_weights, step_size, l2_penalty, max_iterations=100):\n",
    "    converged = False\n",
    "    weights = np.array(initial_weights)\n",
    "    \n",
    "    it = 0\n",
    "    while it < max_iterations:\n",
    "        predictions = features_matrix.dot(weights)\n",
    "        errors = predictions - output\n",
    "               \n",
    "        for i in range(len(weights)):\n",
    "            feature = features_matrix[:, i]\n",
    "            if i == 0:\n",
    "                derivative = feature_derivative_ridge(errors, feature, weights[i], l2_penalty, True)\n",
    "            else:\n",
    "                derivative = feature_derivative_ridge(errors, feature, weights[i], l2_penalty, False)\n",
    "            weights[i] = weights[i] - step_size * derivative\n",
    "            \n",
    "        it += 1\n",
    "    return weights"
   ]
  },
  {
   "cell_type": "code",
   "execution_count": 19,
   "metadata": {
    "collapsed": true
   },
   "outputs": [],
   "source": [
    "simple_features = ['sqft_living']\n",
    "my_output = 'price'\n",
    "(simple_feature_matrix, output) = get_numpy_data(train_data, simple_features, my_output)\n",
    "(simple_test_feature_matrix, test_output) = get_numpy_data(test_data, simple_features, my_output)"
   ]
  },
  {
   "cell_type": "code",
   "execution_count": 35,
   "metadata": {
    "collapsed": false
   },
   "outputs": [
    {
     "name": "stdout",
     "output_type": "stream",
     "text": [
      "[ -1.63113515e-01   2.63024369e+02]\n"
     ]
    }
   ],
   "source": [
    "simple_weights_0_penalty = ridge_regression_gradient_descent(simple_feature_matrix, output, [0.0, 0.0], 1e-12, 0.0, 1000)\n",
    "print simple_weights_0_penalty"
   ]
  },
  {
   "cell_type": "code",
   "execution_count": 37,
   "metadata": {
    "collapsed": false
   },
   "outputs": [
    {
     "data": {
      "text/plain": [
       "array([   9.76730382,  124.57217567])"
      ]
     },
     "execution_count": 37,
     "metadata": {},
     "output_type": "execute_result"
    }
   ],
   "source": [
    "simple_weights_11_penalty = ridge_regression_gradient_descent(simple_feature_matrix, output, [0.0, 0.0], 1e-12, 1e11, 1000)\n",
    "simple_weights_11_penalty"
   ]
  },
  {
   "cell_type": "code",
   "execution_count": 38,
   "metadata": {
    "collapsed": false
   },
   "outputs": [
    {
     "data": {
      "text/plain": [
       "[<matplotlib.lines.Line2D at 0x108ebef10>,\n",
       " <matplotlib.lines.Line2D at 0x108eca190>,\n",
       " <matplotlib.lines.Line2D at 0x108eca390>,\n",
       " <matplotlib.lines.Line2D at 0x108ecae50>,\n",
       " <matplotlib.lines.Line2D at 0x108ed5050>,\n",
       " <matplotlib.lines.Line2D at 0x108ed5b10>]"
      ]
     },
     "execution_count": 38,
     "metadata": {},
     "output_type": "execute_result"
    },
    {
     "data": {
      "image/png": "[encoded data removed]",
      "text/plain": [
       "<matplotlib.figure.Figure at 0x103a89850>"
      ]
     },
     "metadata": {},
     "output_type": "display_data"
    }
   ],
   "source": [
    "import matplotlib.pyplot as plt\n",
    "%matplotlib inline\n",
    "plt.plot(simple_feature_matrix,output,'k.',\n",
    "        simple_feature_matrix,predict_output(simple_feature_matrix, simple_weights_0_penalty),'b-',\n",
    "        simple_feature_matrix,predict_output(simple_feature_matrix, simple_weights_11_penalty),'r-')"
   ]
  },
  {
   "cell_type": "code",
   "execution_count": 34,
   "metadata": {
    "collapsed": false
   },
   "outputs": [
    {
     "name": "stdout",
     "output_type": "stream",
     "text": [
      "[ -1.63113515e-01   2.63024369e+02]\n",
      "[ nan  nan]\n"
     ]
    }
   ],
   "source": [
    "print simple_weights_0_penalty\n",
    "print simple_weights_11_penalty"
   ]
  },
  {
   "cell_type": "code",
   "execution_count": 64,
   "metadata": {
    "collapsed": false
   },
   "outputs": [
    {
     "name": "stdout",
     "output_type": "stream",
     "text": [
      "1.78427328614e+15\n",
      "2.75723632153e+14\n",
      "6.94642101515e+14\n"
     ]
    }
   ],
   "source": [
    "print sum((predict_output(simple_test_feature_matrix, np.array([0., 0.])) - test_output) ** 2)\n",
    "print sum((predict_output(simple_test_feature_matrix, np.array(\n",
    "[ -1.63113515e-01, 2.63024369e+02])) - test_output) ** 2)\n",
    "print sum((predict_output(simple_test_feature_matrix, np.array(\n",
    "[ 9.76730382,  124.57217567])) - test_output) ** 2)"
   ]
  },
  {
   "cell_type": "code",
   "execution_count": 55,
   "metadata": {
    "collapsed": true
   },
   "outputs": [],
   "source": [
    "model_features = ['sqft_living', 'sqft_living15']\n",
    "my_output = 'price'\n",
    "(feature_matrix, output) = get_numpy_data(train_data, model_features, my_output)\n",
    "(test_feature_matrix, test_output) = get_numpy_data(test_data, model_features, my_output)"
   ]
  },
  {
   "cell_type": "code",
   "execution_count": 56,
   "metadata": {
    "collapsed": false
   },
   "outputs": [
    {
     "name": "stdout",
     "output_type": "stream",
     "text": [
      "[  -0.35743483  243.05416982   22.41481497]\n"
     ]
    }
   ],
   "source": [
    "multiple_weights_0_penalty = ridge_regression_gradient_descent(feature_matrix, output, [0.0, 0.0, 0.0], 1e-12, 0.0, 1000)\n",
    "print multiple_weights_0_penalty"
   ]
  },
  {
   "cell_type": "code",
   "execution_count": 57,
   "metadata": {
    "collapsed": false
   },
   "outputs": [
    {
     "name": "stdout",
     "output_type": "stream",
     "text": [
      "[  6.74296579  91.48927365  78.43658766]\n"
     ]
    }
   ],
   "source": [
    "multiple_weights_11_penalty = ridge_regression_gradient_descent(feature_matrix, output, [0.0, 0.0, 0.0], 1e-12, 1e11, 1000)\n",
    "print multiple_weights_11_penalty"
   ]
  },
  {
   "cell_type": "code",
   "execution_count": 62,
   "metadata": {
    "collapsed": false
   },
   "outputs": [
    {
     "name": "stdout",
     "output_type": "stream",
     "text": [
      "310368.592266\n"
     ]
    }
   ],
   "source": [
    "print predict_output(simple_feature_matrix, simple_weights_0_penalty)[0]"
   ]
  },
  {
   "cell_type": "code",
   "execution_count": 63,
   "metadata": {
    "collapsed": false
   },
   "outputs": [
    {
     "name": "stdout",
     "output_type": "stream",
     "text": [
      "147004.934599\n"
     ]
    }
   ],
   "source": [
    "print predict_output(simple_feature_matrix, simple_weights_11_penalty)[0]"
   ]
  },
  {
   "cell_type": "code",
   "execution_count": 65,
   "metadata": {
    "collapsed": false
   },
   "outputs": [
    {
     "name": "stdout",
     "output_type": "stream",
     "text": [
      "1.78427328614e+15\n"
     ]
    }
   ],
   "source": [
    "print sum((predict_output(test_feature_matrix, np.array([0., 0., 0.])) - test_output) ** 2)"
   ]
  },
  {
   "cell_type": "code",
   "execution_count": 60,
   "metadata": {
    "collapsed": false
   },
   "outputs": [
    {
     "name": "stdout",
     "output_type": "stream",
     "text": [
      "              id             date    price  bedrooms  bathrooms  sqft_living  \\\n",
      "0     0114101516  20140528T000000   310000         3       1.00         1430   \n",
      "1     9297300055  20150124T000000   650000         4       3.00         2950   \n",
      "2     1202000200  20141103T000000   233000         3       2.00         1710   \n",
      "3     8562750320  20141110T000000   580500         3       2.50         2320   \n",
      "4     7589200193  20141110T000000   535000         3       1.00         1090   \n",
      "5     2078500320  20140620T000000   605000         4       2.50         2620   \n",
      "6     7766200013  20140811T000000   775000         4       2.25         4220   \n",
      "7     9478500640  20140819T000000   292500         4       2.50         2250   \n",
      "8     9558200045  20140828T000000   289000         3       1.75         1260   \n",
      "9     8820901275  20140610T000000   571000         4       2.00         2750   \n",
      "10    3444100400  20150316T000000   349000         3       1.75         1790   \n",
      "11    7437100340  20141222T000000   360000         4       2.50         1900   \n",
      "12    2791500270  20140522T000000   243500         4       2.50         1980   \n",
      "13    3422049190  20150330T000000   247500         3       1.75         1960   \n",
      "14    3134100116  20140827T000000   470000         5       1.75         2030   \n",
      "15    8961960160  20141028T000000   480000         4       2.50         3230   \n",
      "16    3275860240  20140618T000000   770000         3       2.25         2910   \n",
      "17    2767603505  20140507T000000   519950         3       2.25         1170   \n",
      "18    1777500060  20140708T000000   527700         5       2.50         2820   \n",
      "19    6140100875  20150415T000000   420000         3       1.00         1060   \n",
      "20    0809001525  20140625T000000   890000         4       1.00         2550   \n",
      "21    0537000445  20150331T000000   282950         3       1.00         1250   \n",
      "22    0084000105  20140507T000000   255000         5       2.25         2060   \n",
      "23    2617300160  20140812T000000   420000         3       2.00         2020   \n",
      "24    1836980160  20150324T000000   807100         4       2.50         2680   \n",
      "25    4330600435  20150316T000000   284000         3       1.75         1560   \n",
      "26    1762600070  20150116T000000   917500         4       2.50         3880   \n",
      "27    7234600798  20150210T000000   425000         3       2.50         1120   \n",
      "28    3830630310  20140725T000000   260000         3       2.50         1670   \n",
      "29    2222059065  20141112T000000   297000         3       2.50         1940   \n",
      "...          ...              ...      ...       ...        ...          ...   \n",
      "4199  1085623630  20141003T000000   436952         4       2.50         2708   \n",
      "4200  2461900448  20140616T000000   435000         3       2.00         1980   \n",
      "4201  6431000749  20140922T000000   349000         3       3.25         1340   \n",
      "4202  3362401761  20150225T000000   450000         2       1.50         1020   \n",
      "4203  1760650900  20140721T000000   337500         4       2.50         2330   \n",
      "4204  0323079058  20150105T000000   850000         4       3.75         3890   \n",
      "4205  0847100047  20140917T000000   579000         4       2.75         3220   \n",
      "4206  1853080150  20140811T000000   890776         5       2.75         3170   \n",
      "4207  8682291050  20140708T000000   810000         2       2.75         2700   \n",
      "4208  0148000072  20140818T000000   600000         2       2.50         1830   \n",
      "4209  7625702277  20150331T000000   406000         2       2.00         1110   \n",
      "4210  7430500110  20141209T000000  1378000         5       3.50         5150   \n",
      "4211  3304300300  20150507T000000   579950         4       2.75         2460   \n",
      "4212  2625069038  20141124T000000  1450000         4       3.50         4300   \n",
      "4213  2487200490  20140623T000000   670000         3       2.50         3310   \n",
      "4214  1972200227  20141007T000000   459000         3       1.50         1160   \n",
      "4215  8562770720  20150423T000000   589999         3       2.50         2140   \n",
      "4216  2855000110  20140808T000000   388000         3       2.50         2198   \n",
      "4217  3438501329  20140520T000000   305000         2       2.50         1590   \n",
      "4218  9406530090  20141020T000000   337000         4       2.50         2470   \n",
      "4219  0524059330  20150130T000000  1700000         4       3.50         3830   \n",
      "4220  9578500790  20141111T000000   399950         3       2.50         3087   \n",
      "4221  3881900317  20150123T000000   579000         4       3.25         1900   \n",
      "4222  3052700432  20141112T000000   490000         3       2.25         1500   \n",
      "4223  2025049203  20140610T000000   399950         2       1.00          710   \n",
      "4224  8672200110  20150317T000000  1088000         5       3.75         4170   \n",
      "4225  5087900040  20141017T000000   350000         4       2.75         2500   \n",
      "4226  3448900210  20141014T000000   610685         4       2.50         2520   \n",
      "4227  6600060120  20150223T000000   400000         4       2.50         2310   \n",
      "4228  1523300141  20140623T000000   402101         2       0.75         1020   \n",
      "\n",
      "      sqft_lot floors  waterfront  view    ...     sqft_above  sqft_basement  \\\n",
      "0        19901    1.5           0     0    ...           1430              0   \n",
      "1         5000      2           0     3    ...           1980            970   \n",
      "2         4697    1.5           0     0    ...           1710              0   \n",
      "3         3980      2           0     0    ...           2320              0   \n",
      "4         3000    1.5           0     0    ...           1090              0   \n",
      "5         7553      2           0     0    ...           2620              0   \n",
      "6        24186      1           0     0    ...           2600           1620   \n",
      "7         4495      2           0     0    ...           2250              0   \n",
      "8         8400      1           0     0    ...           1260              0   \n",
      "9         7807    1.5           0     0    ...           2250            500   \n",
      "10       50529      1           0     0    ...           1090            700   \n",
      "11        5889      2           0     0    ...           1900              0   \n",
      "12        7403      2           0     0    ...           1980              0   \n",
      "13       15681      1           0     0    ...           1960              0   \n",
      "14       12342      2           0     0    ...           2030              0   \n",
      "15       16171      2           0     3    ...           2520            710   \n",
      "16       10204      2           0     0    ...           2910              0   \n",
      "17        1249      3           0     0    ...           1170              0   \n",
      "18        9375      1           0     0    ...           1550           1270   \n",
      "19        8097      1           0     0    ...            940            120   \n",
      "20        4000      2           0     0    ...           2370            180   \n",
      "21        8200      1           0     0    ...           1250              0   \n",
      "22        8632      1           0     0    ...           1030           1030   \n",
      "23       38332      1           0     0    ...           1010           1010   \n",
      "24        4499      2           0     0    ...           2680              0   \n",
      "25       21000      1           0     0    ...           1560              0   \n",
      "26       35003      2           0     0    ...           2570           1310   \n",
      "27        1100      2           0     0    ...            820            300   \n",
      "28        5797      2           0     0    ...           1670              0   \n",
      "29       14952      2           0     0    ...           1940              0   \n",
      "...        ...    ...         ...   ...    ...            ...            ...   \n",
      "4199      4772      2           0     0    ...           2708              0   \n",
      "4200      2674      3           0     0    ...           1980              0   \n",
      "4201      1151      3           0     0    ...           1340              0   \n",
      "4202      1049      3           0     0    ...           1020              0   \n",
      "4203      4907      2           0     0    ...           2330              0   \n",
      "4204     22000      2           0     0    ...           3890              0   \n",
      "4205      9825      2           0     0    ...           3220              0   \n",
      "4206      8093      2           0     0    ...           3170              0   \n",
      "4207      8572      1           0     0    ...           2700              0   \n",
      "4208      1988      2           0     0    ...           1530            300   \n",
      "4209      1095      3           0     0    ...            980            130   \n",
      "4210     12230      2           0     2    ...           3700           1450   \n",
      "4211      8643      2           0     0    ...           2460              0   \n",
      "4212    108865      2           0     0    ...           4300              0   \n",
      "4213      5300      2           0     2    ...           2440            870   \n",
      "4214      1031      3           0     0    ...           1160              0   \n",
      "4215      3628      2           0     0    ...           1960            180   \n",
      "4216      6222      2           0     2    ...           2198              0   \n",
      "4217      2656      2           0     0    ...           1220            370   \n",
      "4218      5100      2           0     0    ...           2470              0   \n",
      "4219      8963      2           0     0    ...           3120            710   \n",
      "4220      5002      2           0     0    ...           3087              0   \n",
      "4221      2631      2           0     0    ...           1250            650   \n",
      "4222      1290      2           0     0    ...           1220            280   \n",
      "4223      1157      2           0     0    ...            710              0   \n",
      "4224      8142      2           0     2    ...           4170              0   \n",
      "4225      5995      2           0     0    ...           2500              0   \n",
      "4226      6023      2           0     0    ...           2520              0   \n",
      "4227      5813      2           0     0    ...           2310              0   \n",
      "4228      1350      2           0     0    ...           1020              0   \n",
      "\n",
      "      yr_built  yr_renovated  zipcode      lat     long  sqft_living15  \\\n",
      "0         1927             0    98028  47.7558 -122.229           1780   \n",
      "1         1979             0    98126  47.5714 -122.375           2140   \n",
      "2         1941             0    98002  47.3048 -122.218           1030   \n",
      "3         2003             0    98027  47.5391 -122.070           2580   \n",
      "4         1929             0    98117  47.6889 -122.375           1570   \n",
      "5         1996             0    98056  47.5301 -122.180           2620   \n",
      "6         1984             0    98166  47.4450 -122.347           2410   \n",
      "7         2008             0    98042  47.3663 -122.114           2250   \n",
      "8         1954             0    98148  47.4366 -122.335           1290   \n",
      "9         1916             0    98125  47.7168 -122.287           1510   \n",
      "10        1965             0    98042  47.3511 -122.073           1940   \n",
      "11        1992             0    98038  47.3490 -122.031           1870   \n",
      "12        1988             0    98023  47.2897 -122.372           1980   \n",
      "13        1967             0    98032  47.3576 -122.277           1750   \n",
      "14        1942             0    98052  47.6417 -122.109           2500   \n",
      "15        2001             0    98001  47.3183 -122.253           2640   \n",
      "16        1990             0    98052  47.6897 -122.098           2700   \n",
      "17        2014             0    98107  47.6722 -122.381           1350   \n",
      "18        1968             0    98006  47.5707 -122.128           2820   \n",
      "19        1923             0    98133  47.7144 -122.351           1560   \n",
      "20        1905             0    98109  47.6354 -122.353           2200   \n",
      "21        1954             0    98003  47.3255 -122.304           1680   \n",
      "22        1962             0    98146  47.4877 -122.335           1010   \n",
      "23        1975             0    98027  47.4582 -122.023           2110   \n",
      "24        1999             0    98006  47.5650 -122.125           2920   \n",
      "25        1954             0    98166  47.4776 -122.337           1070   \n",
      "26        1984             0    98033  47.6477 -122.182           3740   \n",
      "27        2008             0    98122  47.6106 -122.310           1590   \n",
      "28        1988             0    98030  47.3505 -122.179           1670   \n",
      "29        1994             0    98042  47.3777 -122.165           2030   \n",
      "...        ...           ...      ...      ...      ...            ...   \n",
      "4199      2014             0    98092  47.3413 -122.178           2502   \n",
      "4200      2007             0    98136  47.5524 -122.382           1440   \n",
      "4201      2008             0    98103  47.6904 -122.346           1290   \n",
      "4202      2008             0    98103  47.6800 -122.348           1350   \n",
      "4203      2013             0    98042  47.3590 -122.081           2300   \n",
      "4204      2007             0    98027  47.5052 -121.906           1610   \n",
      "4205      2012             0    98059  47.4863 -122.143           2820   \n",
      "4206      2014             0    98075  47.5933 -122.060           3210   \n",
      "4207      2007             0    98053  47.7236 -122.033           2680   \n",
      "4208      2011             0    98116  47.5779 -122.409           1800   \n",
      "4209      2008             0    98136  47.5494 -122.388           1110   \n",
      "4210      2007             0    98008  47.6249 -122.090           2940   \n",
      "4211      2011             0    98059  47.4828 -122.133           3110   \n",
      "4212      2014             0    98074  47.6258 -122.005           4650   \n",
      "4213      2008             0    98136  47.5178 -122.389           2140   \n",
      "4214      2008             0    98103  47.6538 -122.357           1268   \n",
      "4215      2006             0    98027  47.5370 -122.074           2280   \n",
      "4216      2010             0    98198  47.3906 -122.304           2198   \n",
      "4217      2009             0    98106  47.5489 -122.364           1590   \n",
      "4218      2005             0    98038  47.3622 -122.041           2240   \n",
      "4219      2014             0    98004  47.5990 -122.197           2190   \n",
      "4220      2014             0    98023  47.2974 -122.349           2927   \n",
      "4221      2014             0    98144  47.5869 -122.311           1710   \n",
      "4222      2006             0    98117  47.6785 -122.375           1460   \n",
      "4223      1943             0    98102  47.6413 -122.329           1370   \n",
      "4224      2006             0    98056  47.5354 -122.181           3030   \n",
      "4225      2008             0    98042  47.3749 -122.107           2530   \n",
      "4226      2014             0    98056  47.5137 -122.167           2520   \n",
      "4227      2014             0    98146  47.5107 -122.362           1830   \n",
      "4228      2009             0    98144  47.5944 -122.299           1020   \n",
      "\n",
      "      sqft_lot15  constant  \n",
      "0          12697         1  \n",
      "1           4000         1  \n",
      "2           4705         1  \n",
      "3           3980         1  \n",
      "4           5080         1  \n",
      "5          11884         1  \n",
      "6          30617         1  \n",
      "7           4500         1  \n",
      "8           8750         1  \n",
      "9           7807         1  \n",
      "10         50529         1  \n",
      "11          6405         1  \n",
      "12          7510         1  \n",
      "13         15616         1  \n",
      "14          9433         1  \n",
      "15          8517         1  \n",
      "16         13992         1  \n",
      "17          1310         1  \n",
      "18          9375         1  \n",
      "19          7940         1  \n",
      "20          4000         1  \n",
      "21          8633         1  \n",
      "22         11680         1  \n",
      "23         36590         1  \n",
      "24          4500         1  \n",
      "25          7920         1  \n",
      "26         35230         1  \n",
      "27          1795         1  \n",
      "28          6183         1  \n",
      "29         10450         1  \n",
      "...          ...       ...  \n",
      "4199        4900         1  \n",
      "4200        2674         1  \n",
      "4201        1200         1  \n",
      "4202        1395         1  \n",
      "4203        3836         1  \n",
      "4204       23142         1  \n",
      "4205        8566         1  \n",
      "4206        7062         1  \n",
      "4207        8569         1  \n",
      "4208        2467         1  \n",
      "4209        1083         1  \n",
      "4210       13462         1  \n",
      "4211        8626         1  \n",
      "4212      107498         1  \n",
      "4213        7500         1  \n",
      "4214        1688         1  \n",
      "4215        2812         1  \n",
      "4216        7621         1  \n",
      "4217        2306         1  \n",
      "4218        5123         1  \n",
      "4219       10777         1  \n",
      "4220        5183         1  \n",
      "4221        4502         1  \n",
      "4222        1375         1  \n",
      "4223        1173         1  \n",
      "4224        7980         1  \n",
      "4225        5988         1  \n",
      "4226        6023         1  \n",
      "4227        7200         1  \n",
      "4228        2007         1  \n",
      "\n",
      "[4229 rows x 22 columns]\n"
     ]
    }
   ],
   "source": [
    "print test_data"
   ]
  },
  {
   "cell_type": "code",
   "execution_count": null,
   "metadata": {
    "collapsed": true
   },
   "outputs": [],
   "source": []
  }
 ],
 "metadata": {
  "kernelspec": {
   "display_name": "Python 2",
   "language": "python",
   "name": "python2"
  },
  "language_info": {
   "codemirror_mode": {
    "name": "ipython",
    "version": 2
   },
   "file_extension": ".py",
   "mimetype": "text/x-python",
   "name": "python",
   "nbconvert_exporter": "python",
   "pygments_lexer": "ipython2",
   "version": "2.7.10"
  }
 },
 "nbformat": 4,
 "nbformat_minor": 0
}
