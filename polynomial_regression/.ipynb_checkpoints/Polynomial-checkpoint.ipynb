{
 "cells": [
  {
   "cell_type": "code",
   "execution_count": 84,
   "metadata": {
    "collapsed": true
   },
   "outputs": [],
   "source": [
    "import pandas as pd\n",
    "import numpy as np\n",
    "import math"
   ]
  },
  {
   "cell_type": "code",
   "execution_count": 124,
   "metadata": {
    "collapsed": true
   },
   "outputs": [],
   "source": [
    "def polynomial_dataframe(feature, degree):\n",
    "    df = pd.DataFrame()\n",
    "    \n",
    "    df['power_1'] = feature\n",
    "    \n",
    "    if degree > 1:\n",
    "        for power in range(2, degree+1):\n",
    "            name = 'power_' + str(power)\n",
    "            df[name] = feature.apply(lambda x : math.pow(x, degree))\n",
    "            \n",
    "    return df"
   ]
  },
  {
   "cell_type": "code",
   "execution_count": 81,
   "metadata": {
    "collapsed": false
   },
   "outputs": [
    {
     "data": {
      "text/plain": [
       "id                 int64\n",
       "date              object\n",
       "price            float64\n",
       "bedrooms           int64\n",
       "bathrooms        float64\n",
       "sqft_living        int64\n",
       "sqft_lot           int64\n",
       "floors           float64\n",
       "waterfront         int64\n",
       "view               int64\n",
       "condition          int64\n",
       "grade              int64\n",
       "sqft_above         int64\n",
       "sqft_basement      int64\n",
       "yr_built           int64\n",
       "yr_renovated       int64\n",
       "zipcode            int64\n",
       "lat              float64\n",
       "long             float64\n",
       "sqft_living15      int64\n",
       "sqft_lot15         int64\n",
       "dtype: object"
      ]
     },
     "execution_count": 81,
     "metadata": {},
     "output_type": "execute_result"
    }
   ],
   "source": [
    "sales = pd.read_csv('kc_house_data.csv')\n",
    "\n",
    "sales.dtypes"
   ]
  },
  {
   "cell_type": "code",
   "execution_count": 102,
   "metadata": {
    "collapsed": false
   },
   "outputs": [
    {
     "data": {
      "text/html": [
       "<div>\n",
       "<table border=\"1\" class=\"dataframe\">\n",
       "  <thead>\n",
       "    <tr style=\"text-align: right;\">\n",
       "      <th></th>\n",
       "      <th>id</th>\n",
       "      <th>date</th>\n",
       "      <th>price</th>\n",
       "      <th>bedrooms</th>\n",
       "      <th>bathrooms</th>\n",
       "      <th>sqft_living</th>\n",
       "      <th>sqft_lot</th>\n",
       "      <th>floors</th>\n",
       "      <th>waterfront</th>\n",
       "      <th>view</th>\n",
       "      <th>...</th>\n",
       "      <th>grade</th>\n",
       "      <th>sqft_above</th>\n",
       "      <th>sqft_basement</th>\n",
       "      <th>yr_built</th>\n",
       "      <th>yr_renovated</th>\n",
       "      <th>zipcode</th>\n",
       "      <th>lat</th>\n",
       "      <th>long</th>\n",
       "      <th>sqft_living15</th>\n",
       "      <th>sqft_lot15</th>\n",
       "    </tr>\n",
       "  </thead>\n",
       "  <tbody>\n",
       "    <tr>\n",
       "      <th>19452</th>\n",
       "      <td>3980300371</td>\n",
       "      <td>20140926T000000</td>\n",
       "      <td>142000</td>\n",
       "      <td>0</td>\n",
       "      <td>0.00</td>\n",
       "      <td>290</td>\n",
       "      <td>20875</td>\n",
       "      <td>1</td>\n",
       "      <td>0</td>\n",
       "      <td>0</td>\n",
       "      <td>...</td>\n",
       "      <td>1</td>\n",
       "      <td>290</td>\n",
       "      <td>0</td>\n",
       "      <td>1963</td>\n",
       "      <td>0</td>\n",
       "      <td>98024</td>\n",
       "      <td>47.5308</td>\n",
       "      <td>-121.888</td>\n",
       "      <td>1620</td>\n",
       "      <td>22850</td>\n",
       "    </tr>\n",
       "    <tr>\n",
       "      <th>15381</th>\n",
       "      <td>2856101479</td>\n",
       "      <td>20140701T000000</td>\n",
       "      <td>276000</td>\n",
       "      <td>1</td>\n",
       "      <td>0.75</td>\n",
       "      <td>370</td>\n",
       "      <td>1801</td>\n",
       "      <td>1</td>\n",
       "      <td>0</td>\n",
       "      <td>0</td>\n",
       "      <td>...</td>\n",
       "      <td>5</td>\n",
       "      <td>370</td>\n",
       "      <td>0</td>\n",
       "      <td>1923</td>\n",
       "      <td>0</td>\n",
       "      <td>98117</td>\n",
       "      <td>47.6778</td>\n",
       "      <td>-122.389</td>\n",
       "      <td>1340</td>\n",
       "      <td>5000</td>\n",
       "    </tr>\n",
       "    <tr>\n",
       "      <th>860</th>\n",
       "      <td>1723049033</td>\n",
       "      <td>20140620T000000</td>\n",
       "      <td>245000</td>\n",
       "      <td>1</td>\n",
       "      <td>0.75</td>\n",
       "      <td>380</td>\n",
       "      <td>15000</td>\n",
       "      <td>1</td>\n",
       "      <td>0</td>\n",
       "      <td>0</td>\n",
       "      <td>...</td>\n",
       "      <td>5</td>\n",
       "      <td>380</td>\n",
       "      <td>0</td>\n",
       "      <td>1963</td>\n",
       "      <td>0</td>\n",
       "      <td>98168</td>\n",
       "      <td>47.4810</td>\n",
       "      <td>-122.323</td>\n",
       "      <td>1170</td>\n",
       "      <td>15000</td>\n",
       "    </tr>\n",
       "    <tr>\n",
       "      <th>18379</th>\n",
       "      <td>1222029077</td>\n",
       "      <td>20141029T000000</td>\n",
       "      <td>265000</td>\n",
       "      <td>0</td>\n",
       "      <td>0.75</td>\n",
       "      <td>384</td>\n",
       "      <td>213444</td>\n",
       "      <td>1</td>\n",
       "      <td>0</td>\n",
       "      <td>0</td>\n",
       "      <td>...</td>\n",
       "      <td>4</td>\n",
       "      <td>384</td>\n",
       "      <td>0</td>\n",
       "      <td>2003</td>\n",
       "      <td>0</td>\n",
       "      <td>98070</td>\n",
       "      <td>47.4177</td>\n",
       "      <td>-122.491</td>\n",
       "      <td>1920</td>\n",
       "      <td>224341</td>\n",
       "    </tr>\n",
       "    <tr>\n",
       "      <th>4868</th>\n",
       "      <td>6896300380</td>\n",
       "      <td>20141002T000000</td>\n",
       "      <td>228000</td>\n",
       "      <td>0</td>\n",
       "      <td>1.00</td>\n",
       "      <td>390</td>\n",
       "      <td>5900</td>\n",
       "      <td>1</td>\n",
       "      <td>0</td>\n",
       "      <td>0</td>\n",
       "      <td>...</td>\n",
       "      <td>4</td>\n",
       "      <td>390</td>\n",
       "      <td>0</td>\n",
       "      <td>1953</td>\n",
       "      <td>0</td>\n",
       "      <td>98118</td>\n",
       "      <td>47.5260</td>\n",
       "      <td>-122.261</td>\n",
       "      <td>2170</td>\n",
       "      <td>6000</td>\n",
       "    </tr>\n",
       "  </tbody>\n",
       "</table>\n",
       "<p>5 rows × 21 columns</p>\n",
       "</div>"
      ],
      "text/plain": [
       "               id             date   price  bedrooms  bathrooms  sqft_living  \\\n",
       "19452  3980300371  20140926T000000  142000         0       0.00          290   \n",
       "15381  2856101479  20140701T000000  276000         1       0.75          370   \n",
       "860    1723049033  20140620T000000  245000         1       0.75          380   \n",
       "18379  1222029077  20141029T000000  265000         0       0.75          384   \n",
       "4868   6896300380  20141002T000000  228000         0       1.00          390   \n",
       "\n",
       "       sqft_lot  floors  waterfront  view     ...      grade  sqft_above  \\\n",
       "19452     20875       1           0     0     ...          1         290   \n",
       "15381      1801       1           0     0     ...          5         370   \n",
       "860       15000       1           0     0     ...          5         380   \n",
       "18379    213444       1           0     0     ...          4         384   \n",
       "4868       5900       1           0     0     ...          4         390   \n",
       "\n",
       "       sqft_basement  yr_built  yr_renovated  zipcode      lat     long  \\\n",
       "19452              0      1963             0    98024  47.5308 -121.888   \n",
       "15381              0      1923             0    98117  47.6778 -122.389   \n",
       "860                0      1963             0    98168  47.4810 -122.323   \n",
       "18379              0      2003             0    98070  47.4177 -122.491   \n",
       "4868               0      1953             0    98118  47.5260 -122.261   \n",
       "\n",
       "       sqft_living15  sqft_lot15  \n",
       "19452           1620       22850  \n",
       "15381           1340        5000  \n",
       "860             1170       15000  \n",
       "18379           1920      224341  \n",
       "4868            2170        6000  \n",
       "\n",
       "[5 rows x 21 columns]"
      ]
     },
     "execution_count": 102,
     "metadata": {},
     "output_type": "execute_result"
    }
   ],
   "source": [
    "sales = sales.sort_values(by = 'sqft_living')\n",
    "sales.head()"
   ]
  },
  {
   "cell_type": "code",
   "execution_count": 17,
   "metadata": {
    "collapsed": false
   },
   "outputs": [],
   "source": [
    "poly1_data = polynomial_dataframe(sales['sqft_living'], 1)\n",
    "poly1_data['price'] = sales['price']\n",
    "\n",
    "poly"
   ]
  },
  {
   "cell_type": "code",
   "execution_count": 18,
   "metadata": {
    "collapsed": false
   },
   "outputs": [
    {
     "data": {
      "text/html": [
       "<div>\n",
       "<table border=\"1\" class=\"dataframe\">\n",
       "  <thead>\n",
       "    <tr style=\"text-align: right;\">\n",
       "      <th></th>\n",
       "      <th>power_1</th>\n",
       "      <th>price</th>\n",
       "    </tr>\n",
       "  </thead>\n",
       "  <tbody>\n",
       "    <tr>\n",
       "      <th>19452</th>\n",
       "      <td>290</td>\n",
       "      <td>142000</td>\n",
       "    </tr>\n",
       "    <tr>\n",
       "      <th>15381</th>\n",
       "      <td>370</td>\n",
       "      <td>276000</td>\n",
       "    </tr>\n",
       "    <tr>\n",
       "      <th>860</th>\n",
       "      <td>380</td>\n",
       "      <td>245000</td>\n",
       "    </tr>\n",
       "    <tr>\n",
       "      <th>18379</th>\n",
       "      <td>384</td>\n",
       "      <td>265000</td>\n",
       "    </tr>\n",
       "    <tr>\n",
       "      <th>4868</th>\n",
       "      <td>390</td>\n",
       "      <td>228000</td>\n",
       "    </tr>\n",
       "  </tbody>\n",
       "</table>\n",
       "</div>"
      ],
      "text/plain": [
       "       power_1   price\n",
       "19452      290  142000\n",
       "15381      370  276000\n",
       "860        380  245000\n",
       "18379      384  265000\n",
       "4868       390  228000"
      ]
     },
     "execution_count": 18,
     "metadata": {},
     "output_type": "execute_result"
    }
   ],
   "source": [
    "poly1_data.head()"
   ]
  },
  {
   "cell_type": "code",
   "execution_count": 19,
   "metadata": {
    "collapsed": true
   },
   "outputs": [],
   "source": [
    "from sklearn.linear_model import LinearRegression\n"
   ]
  },
  {
   "cell_type": "code",
   "execution_count": 23,
   "metadata": {
    "collapsed": false
   },
   "outputs": [
    {
     "data": {
      "text/plain": [
       "LinearRegression(copy_X=True, fit_intercept=True, n_jobs=1, normalize=False)"
      ]
     },
     "execution_count": 23,
     "metadata": {},
     "output_type": "execute_result"
    }
   ],
   "source": [
    "model1 = LinearRegression()\n",
    "model1.fit(poly1_data['power_1'].values.reshape(-1, 1), poly1_data['price'])"
   ]
  },
  {
   "cell_type": "code",
   "execution_count": 24,
   "metadata": {
    "collapsed": false
   },
   "outputs": [
    {
     "name": "stdout",
     "output_type": "stream",
     "text": [
      "[ 280.6235679]\n",
      "-43580.7430945\n"
     ]
    }
   ],
   "source": [
    "print model1.coef_\n",
    "print model1.intercept_"
   ]
  },
  {
   "cell_type": "code",
   "execution_count": 27,
   "metadata": {
    "collapsed": false
   },
   "outputs": [
    {
     "data": {
      "text/plain": [
       "[<matplotlib.lines.Line2D at 0x109db3150>,\n",
       " <matplotlib.lines.Line2D at 0x109db33d0>]"
      ]
     },
     "execution_count": 27,
     "metadata": {},
     "output_type": "execute_result"
    },
    {
     "data": {
      "image/png": "[encoded data removed]",
      "text/plain": [
       "<matplotlib.figure.Figure at 0x109d0c5d0>"
      ]
     },
     "metadata": {},
     "output_type": "display_data"
    }
   ],
   "source": [
    "import matplotlib.pyplot as plt\n",
    "%matplotlib inline\n",
    "plt.plot(poly1_data['power_1'], poly1_data['price'], '.', \n",
    "         poly1_data['power_1'], model1.predict(poly1_data['power_1'].values.reshape(-1,1)), '-')\n",
    "\n"
   ]
  },
  {
   "cell_type": "code",
   "execution_count": 125,
   "metadata": {
    "collapsed": false
   },
   "outputs": [
    {
     "name": "stdout",
     "output_type": "stream",
     "text": [
      "19452      290\n",
      "15381      370\n",
      "860        380\n",
      "18379      384\n",
      "4868       390\n",
      "21332      390\n",
      "8623       410\n",
      "11500      420\n",
      "14466      420\n",
      "465        430\n",
      "1168       440\n",
      "18052      460\n",
      "15248      470\n",
      "12075      470\n",
      "8133       480\n",
      "17394      480\n",
      "4203       490\n",
      "4651       500\n",
      "6779       520\n",
      "2141       520\n",
      "3223       520\n",
      "18059      520\n",
      "9641       520\n",
      "2930       520\n",
      "12484      530\n",
      "7017       530\n",
      "3582       530\n",
      "14450      540\n",
      "12757      540\n",
      "18508      550\n",
      "         ...  \n",
      "12872     6980\n",
      "15482     7000\n",
      "7035      7050\n",
      "4149      7080\n",
      "7907      7100\n",
      "21050     7120\n",
      "6501      7220\n",
      "21506     7270\n",
      "18594     7320\n",
      "2713      7350\n",
      "1315      7390\n",
      "10373     7400\n",
      "11871     7420\n",
      "12370     7440\n",
      "4024      7480\n",
      "14032     7620\n",
      "18477     7710\n",
      "16773     7730\n",
      "19858     7850\n",
      "13411     7880\n",
      "1448      8000\n",
      "1164      8010\n",
      "18302     8020\n",
      "14556     8670\n",
      "4411      9200\n",
      "8092      9640\n",
      "9254      9890\n",
      "3914     10040\n",
      "7252     12050\n",
      "12777    13540\n",
      "Name: sqft_living, dtype: int64\n"
     ]
    }
   ],
   "source": [
    "poly2_data = polynomial_dataframe(sales['sqft_living'], 2)\n",
    "poly2_data['price'] = sales['price']"
   ]
  },
  {
   "cell_type": "code",
   "execution_count": 116,
   "metadata": {
    "collapsed": false
   },
   "outputs": [
    {
     "data": {
      "text/html": [
       "<div>\n",
       "<table border=\"1\" class=\"dataframe\">\n",
       "  <thead>\n",
       "    <tr style=\"text-align: right;\">\n",
       "      <th></th>\n",
       "      <th>power_1</th>\n",
       "      <th>power_2</th>\n",
       "      <th>price</th>\n",
       "    </tr>\n",
       "  </thead>\n",
       "  <tbody>\n",
       "    <tr>\n",
       "      <th>19452</th>\n",
       "      <td>290</td>\n",
       "      <td>84100</td>\n",
       "      <td>142000</td>\n",
       "    </tr>\n",
       "    <tr>\n",
       "      <th>15381</th>\n",
       "      <td>370</td>\n",
       "      <td>136900</td>\n",
       "      <td>276000</td>\n",
       "    </tr>\n",
       "    <tr>\n",
       "      <th>860</th>\n",
       "      <td>380</td>\n",
       "      <td>144400</td>\n",
       "      <td>245000</td>\n",
       "    </tr>\n",
       "    <tr>\n",
       "      <th>18379</th>\n",
       "      <td>384</td>\n",
       "      <td>147456</td>\n",
       "      <td>265000</td>\n",
       "    </tr>\n",
       "    <tr>\n",
       "      <th>4868</th>\n",
       "      <td>390</td>\n",
       "      <td>152100</td>\n",
       "      <td>228000</td>\n",
       "    </tr>\n",
       "  </tbody>\n",
       "</table>\n",
       "</div>"
      ],
      "text/plain": [
       "       power_1  power_2   price\n",
       "19452      290    84100  142000\n",
       "15381      370   136900  276000\n",
       "860        380   144400  245000\n",
       "18379      384   147456  265000\n",
       "4868       390   152100  228000"
      ]
     },
     "execution_count": 116,
     "metadata": {},
     "output_type": "execute_result"
    }
   ],
   "source": [
    "poly2_data.head()"
   ]
  },
  {
   "cell_type": "code",
   "execution_count": 30,
   "metadata": {
    "collapsed": false
   },
   "outputs": [
    {
     "data": {
      "text/plain": [
       "LinearRegression(copy_X=True, fit_intercept=True, n_jobs=1, normalize=False)"
      ]
     },
     "execution_count": 30,
     "metadata": {},
     "output_type": "execute_result"
    }
   ],
   "source": [
    "model2 = LinearRegression()\n",
    "model2.fit(poly2_data[['power_1', 'power_2']], poly1_data['price'])"
   ]
  },
  {
   "cell_type": "code",
   "execution_count": 31,
   "metadata": {
    "collapsed": false
   },
   "outputs": [
    {
     "name": "stdout",
     "output_type": "stream",
     "text": [
      "[  6.79940947e+01   3.85812609e-02]\n",
      "199222.279305\n"
     ]
    }
   ],
   "source": [
    "print model2.coef_\n",
    "print model2.intercept_\n"
   ]
  },
  {
   "cell_type": "code",
   "execution_count": 101,
   "metadata": {
    "collapsed": false
   },
   "outputs": [
    {
     "data": {
      "text/plain": [
       "[<matplotlib.lines.Line2D at 0x11073d050>,\n",
       " <matplotlib.lines.Line2D at 0x11073d290>]"
      ]
     },
     "execution_count": 101,
     "metadata": {},
     "output_type": "execute_result"
    },
    {
     "data": {
      "image/png": "[encoded data removed]",
      "text/plain": [
       "<matplotlib.figure.Figure at 0x110680d10>"
      ]
     },
     "metadata": {},
     "output_type": "display_data"
    }
   ],
   "source": [
    "plt.plot(poly2_data['power_1'], poly2_data['price'], '.', \n",
    "         poly2_data['power_1'], model2.predict(poly2_data[['power_1', 'power_2']]), '-')"
   ]
  },
  {
   "cell_type": "code",
   "execution_count": 121,
   "metadata": {
    "collapsed": false
   },
   "outputs": [
    {
     "name": "stdout",
     "output_type": "stream",
     "text": [
      "       power_1   power_2   power_3   price\n",
      "19452      290  24389000  24389000  142000\n",
      "15381      370  50653000  50653000  276000\n",
      "860        380  54872000  54872000  245000\n",
      "18379      384  56623104  56623104  265000\n",
      "4868       390  59319000  59319000  228000\n"
     ]
    },
    {
     "data": {
      "text/plain": [
       "[<matplotlib.lines.Line2D at 0x10eb234d0>,\n",
       " <matplotlib.lines.Line2D at 0x10eb23710>]"
      ]
     },
     "execution_count": 121,
     "metadata": {},
     "output_type": "execute_result"
    },
    {
     "data": {
      "image/png": "[encoded data removed]",
      "text/plain": [
       "<matplotlib.figure.Figure at 0x10d98e750>"
      ]
     },
     "metadata": {},
     "output_type": "display_data"
    }
   ],
   "source": [
    "poly3_data = polynomial_dataframe(sales['sqft_living'], 3)\n",
    "poly3_data['price'] = sales['price']\n",
    "\n",
    "model3 = LinearRegression()\n",
    "model3.fit(poly3_data[['power_1', 'power_2', 'power_3']], poly3_data['price'])\n",
    "\n",
    "#print model3.coef_\n",
    "#print model3.intercept_\n",
    "print poly3_data.head()\n",
    "\n",
    "plt.plot(poly3_data['power_1'], poly3_data['price'], '.', \n",
    "         poly3_data['power_1'], model3.predict(poly3_data[['power_1', 'power_2', 'power_3']]), '-')"
   ]
  },
  {
   "cell_type": "code",
   "execution_count": 118,
   "metadata": {
    "collapsed": false
   },
   "outputs": [
    {
     "name": "stdout",
     "output_type": "stream",
     "text": [
      "       power_1       power_2       power_3       power_4       power_5  \\\n",
      "19452      290  8.629189e+36  8.629189e+36  8.629189e+36  8.629189e+36   \n",
      "15381      370  3.334463e+38  3.334463e+38  3.334463e+38  3.334463e+38   \n",
      "860        380  4.974552e+38  4.974552e+38  4.974552e+38  4.974552e+38   \n",
      "18379      384  5.820608e+38  5.820608e+38  5.820608e+38  5.820608e+38   \n",
      "4868       390  7.344616e+38  7.344616e+38  7.344616e+38  7.344616e+38   \n",
      "\n",
      "            power_6       power_7       power_8       power_9      power_10  \\\n",
      "19452  8.629189e+36  8.629189e+36  8.629189e+36  8.629189e+36  8.629189e+36   \n",
      "15381  3.334463e+38  3.334463e+38  3.334463e+38  3.334463e+38  3.334463e+38   \n",
      "860    4.974552e+38  4.974552e+38  4.974552e+38  4.974552e+38  4.974552e+38   \n",
      "18379  5.820608e+38  5.820608e+38  5.820608e+38  5.820608e+38  5.820608e+38   \n",
      "4868   7.344616e+38  7.344616e+38  7.344616e+38  7.344616e+38  7.344616e+38   \n",
      "\n",
      "           power_11      power_12      power_13      power_14      power_15  \\\n",
      "19452  8.629189e+36  8.629189e+36  8.629189e+36  8.629189e+36  8.629189e+36   \n",
      "15381  3.334463e+38  3.334463e+38  3.334463e+38  3.334463e+38  3.334463e+38   \n",
      "860    4.974552e+38  4.974552e+38  4.974552e+38  4.974552e+38  4.974552e+38   \n",
      "18379  5.820608e+38  5.820608e+38  5.820608e+38  5.820608e+38  5.820608e+38   \n",
      "4868   7.344616e+38  7.344616e+38  7.344616e+38  7.344616e+38  7.344616e+38   \n",
      "\n",
      "        price  \n",
      "19452  142000  \n",
      "15381  276000  \n",
      "860    245000  \n",
      "18379  265000  \n",
      "4868   228000  \n",
      "[  1.40211575e-84  -1.86139788e-41   1.38797010e-42   1.38797010e-42\n",
      "   1.38797010e-42   1.38797010e-42   1.38797010e-42   1.38797010e-42\n",
      "   1.38797010e-42   1.38797010e-42   1.38797010e-42   1.38797010e-42\n",
      "   1.38797010e-42   1.14856265e-42   2.19774497e-42]\n",
      "539892.141767\n",
      "       power_1       power_2       power_3       power_4       power_5  \\\n",
      "19452      290  8.629189e+36  8.629189e+36  8.629189e+36  8.629189e+36   \n",
      "15381      370  3.334463e+38  3.334463e+38  3.334463e+38  3.334463e+38   \n",
      "860        380  4.974552e+38  4.974552e+38  4.974552e+38  4.974552e+38   \n",
      "18379      384  5.820608e+38  5.820608e+38  5.820608e+38  5.820608e+38   \n",
      "4868       390  7.344616e+38  7.344616e+38  7.344616e+38  7.344616e+38   \n",
      "\n",
      "            power_6       power_7       power_8       power_9      power_10  \\\n",
      "19452  8.629189e+36  8.629189e+36  8.629189e+36  8.629189e+36  8.629189e+36   \n",
      "15381  3.334463e+38  3.334463e+38  3.334463e+38  3.334463e+38  3.334463e+38   \n",
      "860    4.974552e+38  4.974552e+38  4.974552e+38  4.974552e+38  4.974552e+38   \n",
      "18379  5.820608e+38  5.820608e+38  5.820608e+38  5.820608e+38  5.820608e+38   \n",
      "4868   7.344616e+38  7.344616e+38  7.344616e+38  7.344616e+38  7.344616e+38   \n",
      "\n",
      "           power_11      power_12      power_13      power_14      power_15  \\\n",
      "19452  8.629189e+36  8.629189e+36  8.629189e+36  8.629189e+36  8.629189e+36   \n",
      "15381  3.334463e+38  3.334463e+38  3.334463e+38  3.334463e+38  3.334463e+38   \n",
      "860    4.974552e+38  4.974552e+38  4.974552e+38  4.974552e+38  4.974552e+38   \n",
      "18379  5.820608e+38  5.820608e+38  5.820608e+38  5.820608e+38  5.820608e+38   \n",
      "4868   7.344616e+38  7.344616e+38  7.344616e+38  7.344616e+38  7.344616e+38   \n",
      "\n",
      "        price  \n",
      "19452  142000  \n",
      "15381  276000  \n",
      "860    245000  \n",
      "18379  265000  \n",
      "4868   228000  \n"
     ]
    },
    {
     "data": {
      "text/plain": [
       "[<matplotlib.lines.Line2D at 0x110b8f910>,\n",
       " <matplotlib.lines.Line2D at 0x110b8fb50>]"
      ]
     },
     "execution_count": 118,
     "metadata": {},
     "output_type": "execute_result"
    },
    {
     "data": {
      "image/png": "[encoded data removed]",
      "text/plain": [
       "<matplotlib.figure.Figure at 0x10cdff3d0>"
      ]
     },
     "metadata": {},
     "output_type": "display_data"
    }
   ],
   "source": [
    "poly15_data = polynomial_dataframe(sales['sqft_living'], 15)\n",
    "poly15_data['price'] = sales['price']\n",
    "print poly15_data.head()\n",
    "\n",
    "model15 = LinearRegression()\n",
    "model15.fit(poly15_data[['power_1', 'power_2', 'power_3', 'power_4', 'power_5', 'power_6', 'power_7', 'power_8', 'power_9', 'power_10', 'power_11', 'power_12', 'power_13', 'power_14', 'power_15']], poly15_data['price'])\n",
    "\n",
    "print model15.coef_\n",
    "print model15.intercept_\n",
    "print poly15_data.head()\n",
    "\n",
    "plt.plot(poly15_data['power_1'], poly15_data['price'], '.', \n",
    "         poly15_data['power_1'], model15.predict(poly15_data[['power_1', 'power_2', 'power_3', 'power_4', 'power_5', 'power_6', 'power_7', 'power_8', 'power_9', 'power_10', 'power_11', 'power_12', 'power_13', 'power_14', 'power_15']]), '-')"
   ]
  },
  {
   "cell_type": "code",
   "execution_count": 105,
   "metadata": {
    "collapsed": false
   },
   "outputs": [
    {
     "name": "stdout",
     "output_type": "stream",
     "text": [
      "[ -1.88637741e-78   6.32709521e-39  -3.53162843e-40  -3.53162843e-40\n",
      "  -3.53162843e-40  -3.53162843e-40  -3.53162843e-40  -3.53162843e-40\n",
      "  -3.53162843e-40  -3.53162843e-40  -3.53162843e-40  -3.53162843e-40\n",
      "  -3.53162843e-40  -4.50300148e-40  -1.99200378e-39]\n",
      "536872.106773\n"
     ]
    },
    {
     "data": {
      "text/plain": [
       "[<matplotlib.lines.Line2D at 0x11316df10>,\n",
       " <matplotlib.lines.Line2D at 0x11317c190>]"
      ]
     },
     "execution_count": 105,
     "metadata": {},
     "output_type": "execute_result"
    },
    {
     "data": {
      "image/png": "[encoded data removed]",
      "text/plain": [
       "<matplotlib.figure.Figure at 0x10cc23f50>"
      ]
     },
     "metadata": {},
     "output_type": "display_data"
    }
   ],
   "source": [
    "sales_part1 = pd.read_csv('wk3_kc_house_set_1_data.csv')\n",
    "sales_part1 = sales_part1.sort_values(by = 'sqft_living')\n",
    "\n",
    "part1_data = polynomial_dataframe(sales_part1['sqft_living'], 15)\n",
    "part1_data['price'] = sales['price']\n",
    "\n",
    "p1_model15 = LinearRegression()\n",
    "p1_model15.fit(part1_data[['power_1', 'power_2', 'power_3', 'power_4', \n",
    "                           'power_5', 'power_6', 'power_7', 'power_8', \n",
    "                           'power_9', 'power_10', 'power_11', 'power_12', \n",
    "                           'power_13', 'power_14', 'power_15']], part1_data['price'])\n",
    "\n",
    "print p1_model15.coef_\n",
    "print p1_model15.intercept_\n",
    "\n",
    "plt.plot(part1_data['power_1'], part1_data['price'], '.', \n",
    "         part1_data['power_1'], p1_model15.predict(part1_data[['power_1', 'power_2', 'power_3', 'power_4', \n",
    "                                                            'power_5', 'power_6', 'power_7', 'power_8', \n",
    "                                                            'power_9', 'power_10', 'power_11', 'power_12', \n",
    "                                                            'power_13', 'power_14', 'power_15']]), '-')"
   ]
  },
  {
   "cell_type": "code",
   "execution_count": 106,
   "metadata": {
    "collapsed": false
   },
   "outputs": [
    {
     "name": "stdout",
     "output_type": "stream",
     "text": [
      "[  9.23787923e-86  -4.42596192e-43   3.56115448e-44   3.56115448e-44\n",
      "   3.56115448e-44   3.56115448e-44   3.56115448e-44   3.56115448e-44\n",
      "   3.56115448e-44   3.56115448e-44   3.56115448e-44   3.56115448e-44\n",
      "   3.56115448e-44   3.56115448e-44   1.52576540e-44]\n",
      "536989.693868\n"
     ]
    },
    {
     "data": {
      "text/plain": [
       "[<matplotlib.lines.Line2D at 0x11324a0d0>,\n",
       " <matplotlib.lines.Line2D at 0x11324a310>]"
      ]
     },
     "execution_count": 106,
     "metadata": {},
     "output_type": "execute_result"
    },
    {
     "data": {
      "image/png": "[encoded data removed]",
      "text/plain": [
       "<matplotlib.figure.Figure at 0x113196410>"
      ]
     },
     "metadata": {},
     "output_type": "display_data"
    }
   ],
   "source": [
    "sales_part2 = pd.read_csv('wk3_kc_house_set_2_data.csv')\n",
    "sales_part2 = sales_part2.sort_values(by = 'sqft_living')\n",
    "\n",
    "part2_data = polynomial_dataframe(sales_part2['sqft_living'], 15)\n",
    "part2_data['price'] = sales['price']\n",
    "\n",
    "p2_model15 = LinearRegression()\n",
    "p2_model15.fit(part2_data[['power_1', 'power_2', 'power_3', 'power_4', \n",
    "                           'power_5', 'power_6', 'power_7', 'power_8', \n",
    "                           'power_9', 'power_10', 'power_11', 'power_12', \n",
    "                           'power_13', 'power_14', 'power_15']], part2_data['price'])\n",
    "\n",
    "print p2_model15.coef_\n",
    "print p2_model15.intercept_\n",
    "\n",
    "plt.plot(part2_data['power_1'], part2_data['price'], '.', \n",
    "         part2_data['power_1'], p2_model15.predict(part2_data[['power_1', 'power_2', 'power_3', 'power_4', \n",
    "                                                            'power_5', 'power_6', 'power_7', 'power_8', \n",
    "                                                            'power_9', 'power_10', 'power_11', 'power_12', \n",
    "                                                            'power_13', 'power_14', 'power_15']]), '-')"
   ]
  },
  {
   "cell_type": "code",
   "execution_count": 107,
   "metadata": {
    "collapsed": false
   },
   "outputs": [
    {
     "name": "stdout",
     "output_type": "stream",
     "text": [
      "[ -1.10779569e-111  -2.88292646e-057  -2.88292646e-057  -2.88292646e-057\n",
      "  -2.88292646e-057  -2.88292646e-057  -2.88292646e-057  -2.88292646e-057\n",
      "  -2.88292646e-057  -2.88292646e-057  -2.88292646e-057  -2.88292646e-057\n",
      "  -2.88292646e-057  -2.88292646e-057  -2.88292646e-057]\n",
      "536783.43047\n"
     ]
    },
    {
     "data": {
      "text/plain": [
       "[<matplotlib.lines.Line2D at 0x113819f50>,\n",
       " <matplotlib.lines.Line2D at 0x1138281d0>]"
      ]
     },
     "execution_count": 107,
     "metadata": {},
     "output_type": "execute_result"
    },
    {
     "data": {
      "image/png": "[encoded data removed]",
      "text/plain": [
       "<matplotlib.figure.Figure at 0x11326a7d0>"
      ]
     },
     "metadata": {},
     "output_type": "display_data"
    }
   ],
   "source": [
    "sales_part3 = pd.read_csv('wk3_kc_house_set_3_data.csv')\n",
    "sales_part3 = sales_part3.sort_values(by = 'sqft_living')\n",
    "\n",
    "part3_data = polynomial_dataframe(sales_part3['sqft_living'], 15)\n",
    "part3_data['price'] = sales['price']\n",
    "\n",
    "p3_model15 = LinearRegression()\n",
    "p3_model15.fit(part3_data[['power_1', 'power_2', 'power_3', 'power_4', \n",
    "                           'power_5', 'power_6', 'power_7', 'power_8', \n",
    "                           'power_9', 'power_10', 'power_11', 'power_12', \n",
    "                           'power_13', 'power_14', 'power_15']], part3_data['price'])\n",
    "\n",
    "print p3_model15.coef_\n",
    "print p3_model15.intercept_\n",
    "\n",
    "plt.plot(part3_data['power_1'], part3_data['price'], '.', \n",
    "         part3_data['power_1'], p3_model15.predict(part3_data[['power_1', 'power_2', 'power_3', 'power_4', \n",
    "                                                            'power_5', 'power_6', 'power_7', 'power_8', \n",
    "                                                            'power_9', 'power_10', 'power_11', 'power_12', \n",
    "                                                            'power_13', 'power_14', 'power_15']]), '-')"
   ]
  },
  {
   "cell_type": "code",
   "execution_count": 108,
   "metadata": {
    "collapsed": false
   },
   "outputs": [
    {
     "name": "stdout",
     "output_type": "stream",
     "text": [
      "[ -4.72783240e-116  -1.10436465e-059  -1.10436465e-059  -1.10436465e-059\n",
      "  -1.10436465e-059  -1.10436465e-059  -1.10436465e-059  -1.10436465e-059\n",
      "  -1.10436465e-059  -1.10436465e-059  -1.10436465e-059  -1.10436465e-059\n",
      "  -1.10436465e-059  -1.10436465e-059  -1.10436465e-059]\n",
      "536999.345914\n"
     ]
    },
    {
     "data": {
      "text/plain": [
       "[<matplotlib.lines.Line2D at 0x113d03f50>,\n",
       " <matplotlib.lines.Line2D at 0x113d131d0>]"
      ]
     },
     "execution_count": 108,
     "metadata": {},
     "output_type": "execute_result"
    },
    {
     "data": {
      "image/png": "[encoded data removed]",
      "text/plain": [
       "<matplotlib.figure.Figure at 0x111a70890>"
      ]
     },
     "metadata": {},
     "output_type": "display_data"
    }
   ],
   "source": [
    "sales_part4 = pd.read_csv('wk3_kc_house_set_4_data.csv')\n",
    "sales_part4 = sales_part4.sort_values(by = 'sqft_living')\n",
    "\n",
    "part4_data = polynomial_dataframe(sales_part4['sqft_living'], 15)\n",
    "part4_data['price'] = sales['price']\n",
    "\n",
    "p4_model15 = LinearRegression()\n",
    "p4_model15.fit(part4_data[['power_1', 'power_2', 'power_3', 'power_4', \n",
    "                           'power_5', 'power_6', 'power_7', 'power_8', \n",
    "                           'power_9', 'power_10', 'power_11', 'power_12', \n",
    "                           'power_13', 'power_14', 'power_15']], part4_data['price'])\n",
    "\n",
    "print p4_model15.coef_\n",
    "print p4_model15.intercept_\n",
    "\n",
    "plt.plot(part4_data['power_1'], part4_data['price'], '.', \n",
    "         part4_data['power_1'], p4_model15.predict(part4_data[['power_1', 'power_2', 'power_3', 'power_4', \n",
    "                                                            'power_5', 'power_6', 'power_7', 'power_8', \n",
    "                                                            'power_9', 'power_10', 'power_11', 'power_12', \n",
    "                                                            'power_13', 'power_14', 'power_15']]), '-')"
   ]
  },
  {
   "cell_type": "code",
   "execution_count": 109,
   "metadata": {
    "collapsed": true
   },
   "outputs": [],
   "source": [
    "sales_train = pd.read_csv('wk3_kc_house_train_data.csv')\n",
    "sales_test = pd.read_csv('wk3_kc_house_test_data.csv')\n",
    "sales_valid = pd.read_csv('wk3_kc_house_valid_data.csv')"
   ]
  },
  {
   "cell_type": "code",
   "execution_count": 111,
   "metadata": {
    "collapsed": false
   },
   "outputs": [
    {
     "name": "stdout",
     "output_type": "stream",
     "text": [
      "[ 288.59846375]\n",
      "[ 1.22673842  0.0522949 ]\n",
      "[  1.70616255e+02  -1.29789985e+08   1.29789985e+08]\n",
      "[  234.34319862  4345.74531332 -2172.87265666 -2172.87265666]\n",
      "[ 0.01769124  1.89936893 -0.63312298 -0.63312298 -0.63312298]\n",
      "[  8.68572166e-11  -1.33901525e-04   3.34753813e-05   3.34753813e-05\n",
      "   3.34753813e-05   3.34753813e-05]\n",
      "[  2.57504310e-18  -2.36962570e-08   4.73925141e-09   4.73925141e-09\n",
      "   4.73925141e-09   4.73925141e-09   4.73925141e-09]\n",
      "[  6.62465222e-27  -1.20158931e-12   2.04785176e-13   2.04785176e-13\n",
      "   2.04785176e-13   1.95744594e-13   1.95744594e-13   1.95744594e-13]\n",
      "[  1.66250922e-35   4.71995384e-17   7.07170450e-18   7.07170450e-18\n",
      "   7.07170450e-18   7.07170450e-18  -2.51621188e-17  -2.51621188e-17\n",
      "  -2.51621188e-17]\n",
      "[  9.19749752e-40   1.18111280e-20  -4.54996660e-20  -4.54996660e-20\n",
      "  -4.54996660e-20  -4.54996660e-20  -4.54996660e-20  -4.54996660e-20\n",
      "  -4.54996660e-20   3.06686534e-19]\n",
      "[  2.11797626e-51  -6.78324461e-25   5.78226488e-26   5.78226488e-26\n",
      "   5.78226488e-26   5.78226488e-26   5.78226488e-26   5.78226488e-26\n",
      "   5.78226488e-26   5.57937881e-26   2.17772132e-25]\n",
      "[  1.81057880e-59   6.42867746e-29  -6.48891428e-30  -6.48891428e-30\n",
      "  -6.48891428e-30  -6.48891428e-30  -6.48891428e-30  -6.48891428e-30\n",
      "  -6.48891428e-30  -6.28812489e-30  -6.28812489e-30  -6.28812489e-30]\n",
      "[  1.29299073e-68   1.08520434e-33   1.66618622e-34   1.66618622e-34\n",
      "   1.66618622e-34   1.66618622e-34   1.66618622e-34   1.66618622e-34\n",
      "   1.66618622e-34   1.66618622e-34  -8.06051106e-34  -8.06051106e-34\n",
      "  -8.06051106e-34]\n",
      "[  3.69849461e-76   2.97033809e-37  -2.48113869e-38  -2.48113869e-38\n",
      "  -2.48113869e-38  -2.48113869e-38  -2.48113869e-38  -2.48113869e-38\n",
      "  -2.48113869e-38  -2.48113869e-38  -2.48113869e-38  -2.48113869e-38\n",
      "  -2.48113869e-38  -2.41085533e-38]\n",
      "[  5.36803102e-85   5.45341745e-42   3.48119436e-43   3.48119436e-43\n",
      "   3.48119436e-43   3.48119436e-43   3.48119436e-43   3.48119436e-43\n",
      "   3.48119436e-43   3.48119436e-43   3.48119436e-43   3.48119436e-43\n",
      "   3.48119436e-43   4.31900888e-43  -9.71463213e-42]\n",
      "[629097886299587.4, 623955062706519.5, 682897735164694.1, 732227729304236.1, 1497460973394911.8, 1555917968270866.2, 1531879264969226.5, 1742420405526373.5, 1706207042313035.0, 8.214137726100678e+16, 1927594536858248.0, 2060972869648261.8, 2326940802802064.5, 2592105342407124.5, 3257644760193413.5]\n",
      "1 6.23955062707e+14\n"
     ]
    }
   ],
   "source": [
    "poly_data = {}\n",
    "valid_data = {}\n",
    "model = {}\n",
    "rss_list = []\n",
    "\n",
    "for i in range(1, 16):\n",
    "    valid_data[i] = polynomial_dataframe(sales_valid['sqft_living'], i)\n",
    "    valid_data[i]['price'] = sales_valid['price']\n",
    "    \n",
    "    poly_data[i] = polynomial_dataframe(sales_train['sqft_living'], i)\n",
    "    poly_data[i]['price'] = sales_train['price']\n",
    "    \n",
    "    model[i] = LinearRegression()\n",
    "    cols = list(poly_data[i].columns.values)\n",
    "    cols = cols[:-1]\n",
    "\n",
    "    if i == 1:\n",
    "        X = poly_data[i][cols].values.reshape((-1, 1))\n",
    "        valid_X = valid_data[i][cols].values.reshape((-1, 1))\n",
    "    else:\n",
    "        X = poly_data[i][cols]\n",
    "        valid_X = valid_data[i][cols]\n",
    "        \n",
    "    model[i].fit(X, sales_train['price'])\n",
    "    \n",
    "    print model[i].coef_\n",
    "    \n",
    "    rss  = (model[i].predict(valid_X) - sales_valid['price']) ** 2\n",
    "    rss = np.sum(rss)\n",
    "    rss_list.append(rss)\n",
    "    \n",
    "print rss_list\n",
    "print np.argmin(rss_list), np.min(rss_list)"
   ]
  },
  {
   "cell_type": "code",
   "execution_count": 115,
   "metadata": {
    "collapsed": false
   },
   "outputs": [
    {
     "name": "stdout",
     "output_type": "stream",
     "text": [
      "1.35542039274e+14\n"
     ]
    }
   ],
   "source": [
    "test_data = polynomial_dataframe(sales_test['sqft_living'], 2)\n",
    "test_data['price'] = sales_test['price']\n",
    "\n",
    "print np.sum((test_data['price'] - model[2].predict(test_data[['power_1', 'power_2']])) ** 2)"
   ]
  },
  {
   "cell_type": "code",
   "execution_count": 113,
   "metadata": {
    "collapsed": false
   },
   "outputs": [
    {
     "name": "stdout",
     "output_type": "stream",
     "text": [
      "1.42347931359e+14\n"
     ]
    }
   ],
   "source": [
    "test_data = polynomial_dataframe(sales_test['sqft_living'], 1)\n",
    "test_data['price'] = sales_test['price']\n",
    "\n",
    "print np.sum((test_data['price'] - model[1].predict(test_data['power_1'].values.reshape(-1, 1))) ** 2)"
   ]
  },
  {
   "cell_type": "code",
   "execution_count": 114,
   "metadata": {
    "collapsed": false
   },
   "outputs": [
    {
     "name": "stdout",
     "output_type": "stream",
     "text": [
      "1.37371893905e+14\n"
     ]
    }
   ],
   "source": [
    "test_data = polynomial_dataframe(sales_test['sqft_living'], 3)\n",
    "test_data['price'] = sales_test['price']\n",
    "\n",
    "print np.sum((test_data['price'] - model[3].predict(test_data[['power_1', 'power_2', 'power_3']])) ** 2)"
   ]
  },
  {
   "cell_type": "code",
   "execution_count": 123,
   "metadata": {
    "collapsed": false
   },
   "outputs": [
    {
     "data": {
      "text/html": [
       "<div>\n",
       "<table border=\"1\" class=\"dataframe\">\n",
       "  <thead>\n",
       "    <tr style=\"text-align: right;\">\n",
       "      <th></th>\n",
       "      <th>power_1</th>\n",
       "      <th>power_2</th>\n",
       "      <th>power_3</th>\n",
       "      <th>power_4</th>\n",
       "      <th>power_5</th>\n",
       "      <th>power_6</th>\n",
       "      <th>power_7</th>\n",
       "      <th>power_8</th>\n",
       "      <th>power_9</th>\n",
       "      <th>power_10</th>\n",
       "      <th>power_11</th>\n",
       "      <th>power_12</th>\n",
       "      <th>power_13</th>\n",
       "      <th>power_14</th>\n",
       "      <th>power_15</th>\n",
       "      <th>price</th>\n",
       "    </tr>\n",
       "  </thead>\n",
       "  <tbody>\n",
       "    <tr>\n",
       "      <th>19452</th>\n",
       "      <td>290</td>\n",
       "      <td>8.629189e+36</td>\n",
       "      <td>8.629189e+36</td>\n",
       "      <td>8.629189e+36</td>\n",
       "      <td>8.629189e+36</td>\n",
       "      <td>8.629189e+36</td>\n",
       "      <td>8.629189e+36</td>\n",
       "      <td>8.629189e+36</td>\n",
       "      <td>8.629189e+36</td>\n",
       "      <td>8.629189e+36</td>\n",
       "      <td>8.629189e+36</td>\n",
       "      <td>8.629189e+36</td>\n",
       "      <td>8.629189e+36</td>\n",
       "      <td>8.629189e+36</td>\n",
       "      <td>8.629189e+36</td>\n",
       "      <td>142000</td>\n",
       "    </tr>\n",
       "    <tr>\n",
       "      <th>15381</th>\n",
       "      <td>370</td>\n",
       "      <td>3.334463e+38</td>\n",
       "      <td>3.334463e+38</td>\n",
       "      <td>3.334463e+38</td>\n",
       "      <td>3.334463e+38</td>\n",
       "      <td>3.334463e+38</td>\n",
       "      <td>3.334463e+38</td>\n",
       "      <td>3.334463e+38</td>\n",
       "      <td>3.334463e+38</td>\n",
       "      <td>3.334463e+38</td>\n",
       "      <td>3.334463e+38</td>\n",
       "      <td>3.334463e+38</td>\n",
       "      <td>3.334463e+38</td>\n",
       "      <td>3.334463e+38</td>\n",
       "      <td>3.334463e+38</td>\n",
       "      <td>276000</td>\n",
       "    </tr>\n",
       "    <tr>\n",
       "      <th>860</th>\n",
       "      <td>380</td>\n",
       "      <td>4.974552e+38</td>\n",
       "      <td>4.974552e+38</td>\n",
       "      <td>4.974552e+38</td>\n",
       "      <td>4.974552e+38</td>\n",
       "      <td>4.974552e+38</td>\n",
       "      <td>4.974552e+38</td>\n",
       "      <td>4.974552e+38</td>\n",
       "      <td>4.974552e+38</td>\n",
       "      <td>4.974552e+38</td>\n",
       "      <td>4.974552e+38</td>\n",
       "      <td>4.974552e+38</td>\n",
       "      <td>4.974552e+38</td>\n",
       "      <td>4.974552e+38</td>\n",
       "      <td>4.974552e+38</td>\n",
       "      <td>245000</td>\n",
       "    </tr>\n",
       "    <tr>\n",
       "      <th>18379</th>\n",
       "      <td>384</td>\n",
       "      <td>5.820608e+38</td>\n",
       "      <td>5.820608e+38</td>\n",
       "      <td>5.820608e+38</td>\n",
       "      <td>5.820608e+38</td>\n",
       "      <td>5.820608e+38</td>\n",
       "      <td>5.820608e+38</td>\n",
       "      <td>5.820608e+38</td>\n",
       "      <td>5.820608e+38</td>\n",
       "      <td>5.820608e+38</td>\n",
       "      <td>5.820608e+38</td>\n",
       "      <td>5.820608e+38</td>\n",
       "      <td>5.820608e+38</td>\n",
       "      <td>5.820608e+38</td>\n",
       "      <td>5.820608e+38</td>\n",
       "      <td>265000</td>\n",
       "    </tr>\n",
       "    <tr>\n",
       "      <th>4868</th>\n",
       "      <td>390</td>\n",
       "      <td>7.344616e+38</td>\n",
       "      <td>7.344616e+38</td>\n",
       "      <td>7.344616e+38</td>\n",
       "      <td>7.344616e+38</td>\n",
       "      <td>7.344616e+38</td>\n",
       "      <td>7.344616e+38</td>\n",
       "      <td>7.344616e+38</td>\n",
       "      <td>7.344616e+38</td>\n",
       "      <td>7.344616e+38</td>\n",
       "      <td>7.344616e+38</td>\n",
       "      <td>7.344616e+38</td>\n",
       "      <td>7.344616e+38</td>\n",
       "      <td>7.344616e+38</td>\n",
       "      <td>7.344616e+38</td>\n",
       "      <td>228000</td>\n",
       "    </tr>\n",
       "  </tbody>\n",
       "</table>\n",
       "</div>"
      ],
      "text/plain": [
       "       power_1       power_2       power_3       power_4       power_5  \\\n",
       "19452      290  8.629189e+36  8.629189e+36  8.629189e+36  8.629189e+36   \n",
       "15381      370  3.334463e+38  3.334463e+38  3.334463e+38  3.334463e+38   \n",
       "860        380  4.974552e+38  4.974552e+38  4.974552e+38  4.974552e+38   \n",
       "18379      384  5.820608e+38  5.820608e+38  5.820608e+38  5.820608e+38   \n",
       "4868       390  7.344616e+38  7.344616e+38  7.344616e+38  7.344616e+38   \n",
       "\n",
       "            power_6       power_7       power_8       power_9      power_10  \\\n",
       "19452  8.629189e+36  8.629189e+36  8.629189e+36  8.629189e+36  8.629189e+36   \n",
       "15381  3.334463e+38  3.334463e+38  3.334463e+38  3.334463e+38  3.334463e+38   \n",
       "860    4.974552e+38  4.974552e+38  4.974552e+38  4.974552e+38  4.974552e+38   \n",
       "18379  5.820608e+38  5.820608e+38  5.820608e+38  5.820608e+38  5.820608e+38   \n",
       "4868   7.344616e+38  7.344616e+38  7.344616e+38  7.344616e+38  7.344616e+38   \n",
       "\n",
       "           power_11      power_12      power_13      power_14      power_15  \\\n",
       "19452  8.629189e+36  8.629189e+36  8.629189e+36  8.629189e+36  8.629189e+36   \n",
       "15381  3.334463e+38  3.334463e+38  3.334463e+38  3.334463e+38  3.334463e+38   \n",
       "860    4.974552e+38  4.974552e+38  4.974552e+38  4.974552e+38  4.974552e+38   \n",
       "18379  5.820608e+38  5.820608e+38  5.820608e+38  5.820608e+38  5.820608e+38   \n",
       "4868   7.344616e+38  7.344616e+38  7.344616e+38  7.344616e+38  7.344616e+38   \n",
       "\n",
       "        price  \n",
       "19452  142000  \n",
       "15381  276000  \n",
       "860    245000  \n",
       "18379  265000  \n",
       "4868   228000  "
      ]
     },
     "execution_count": 123,
     "metadata": {},
     "output_type": "execute_result"
    }
   ],
   "source": [
    "poly15_data.head()"
   ]
  },
  {
   "cell_type": "code",
   "execution_count": null,
   "metadata": {
    "collapsed": true
   },
   "outputs": [],
   "source": []
  }
 ],
 "metadata": {
  "kernelspec": {
   "display_name": "Python 2",
   "language": "python",
   "name": "python2"
  },
  "language_info": {
   "codemirror_mode": {
    "name": "ipython",
    "version": 2
   },
   "file_extension": ".py",
   "mimetype": "text/x-python",
   "name": "python",
   "nbconvert_exporter": "python",
   "pygments_lexer": "ipython2",
   "version": "2.7.10"
  }
 },
 "nbformat": 4,
 "nbformat_minor": 0
}
