{
 "cells": [
  {
   "cell_type": "code",
   "execution_count": 84,
   "metadata": {
    "collapsed": true
   },
   "outputs": [],
   "source": [
    "import pandas as pd\n",
    "import numpy as np\n",
    "import math"
   ]
  },
  {
   "cell_type": "code",
   "execution_count": 141,
   "metadata": {
    "collapsed": true
   },
   "outputs": [],
   "source": [
    "def polynomial_dataframe(feature, degree):\n",
    "    df = pd.DataFrame()\n",
    "    \n",
    "    df['power_1'] = feature\n",
    "    \n",
    "    if degree > 1:\n",
    "        for power in range(2, degree+1):\n",
    "            name = 'power_' + str(power)\n",
    "            df[name] = feature.map(lambda x : math.pow(x, power))\n",
    "            \n",
    "    return df"
   ]
  },
  {
   "cell_type": "code",
   "execution_count": 81,
   "metadata": {
    "collapsed": false
   },
   "outputs": [
    {
     "data": {
      "text/plain": [
       "id                 int64\n",
       "date              object\n",
       "price            float64\n",
       "bedrooms           int64\n",
       "bathrooms        float64\n",
       "sqft_living        int64\n",
       "sqft_lot           int64\n",
       "floors           float64\n",
       "waterfront         int64\n",
       "view               int64\n",
       "condition          int64\n",
       "grade              int64\n",
       "sqft_above         int64\n",
       "sqft_basement      int64\n",
       "yr_built           int64\n",
       "yr_renovated       int64\n",
       "zipcode            int64\n",
       "lat              float64\n",
       "long             float64\n",
       "sqft_living15      int64\n",
       "sqft_lot15         int64\n",
       "dtype: object"
      ]
     },
     "execution_count": 81,
     "metadata": {},
     "output_type": "execute_result"
    }
   ],
   "source": [
    "sales = pd.read_csv('kc_house_data.csv')\n",
    "\n",
    "sales.dtypes"
   ]
  },
  {
   "cell_type": "code",
   "execution_count": 102,
   "metadata": {
    "collapsed": false
   },
   "outputs": [
    {
     "data": {
      "text/html": [
       "<div>\n",
       "<table border=\"1\" class=\"dataframe\">\n",
       "  <thead>\n",
       "    <tr style=\"text-align: right;\">\n",
       "      <th></th>\n",
       "      <th>id</th>\n",
       "      <th>date</th>\n",
       "      <th>price</th>\n",
       "      <th>bedrooms</th>\n",
       "      <th>bathrooms</th>\n",
       "      <th>sqft_living</th>\n",
       "      <th>sqft_lot</th>\n",
       "      <th>floors</th>\n",
       "      <th>waterfront</th>\n",
       "      <th>view</th>\n",
       "      <th>...</th>\n",
       "      <th>grade</th>\n",
       "      <th>sqft_above</th>\n",
       "      <th>sqft_basement</th>\n",
       "      <th>yr_built</th>\n",
       "      <th>yr_renovated</th>\n",
       "      <th>zipcode</th>\n",
       "      <th>lat</th>\n",
       "      <th>long</th>\n",
       "      <th>sqft_living15</th>\n",
       "      <th>sqft_lot15</th>\n",
       "    </tr>\n",
       "  </thead>\n",
       "  <tbody>\n",
       "    <tr>\n",
       "      <th>19452</th>\n",
       "      <td>3980300371</td>\n",
       "      <td>20140926T000000</td>\n",
       "      <td>142000</td>\n",
       "      <td>0</td>\n",
       "      <td>0.00</td>\n",
       "      <td>290</td>\n",
       "      <td>20875</td>\n",
       "      <td>1</td>\n",
       "      <td>0</td>\n",
       "      <td>0</td>\n",
       "      <td>...</td>\n",
       "      <td>1</td>\n",
       "      <td>290</td>\n",
       "      <td>0</td>\n",
       "      <td>1963</td>\n",
       "      <td>0</td>\n",
       "      <td>98024</td>\n",
       "      <td>47.5308</td>\n",
       "      <td>-121.888</td>\n",
       "      <td>1620</td>\n",
       "      <td>22850</td>\n",
       "    </tr>\n",
       "    <tr>\n",
       "      <th>15381</th>\n",
       "      <td>2856101479</td>\n",
       "      <td>20140701T000000</td>\n",
       "      <td>276000</td>\n",
       "      <td>1</td>\n",
       "      <td>0.75</td>\n",
       "      <td>370</td>\n",
       "      <td>1801</td>\n",
       "      <td>1</td>\n",
       "      <td>0</td>\n",
       "      <td>0</td>\n",
       "      <td>...</td>\n",
       "      <td>5</td>\n",
       "      <td>370</td>\n",
       "      <td>0</td>\n",
       "      <td>1923</td>\n",
       "      <td>0</td>\n",
       "      <td>98117</td>\n",
       "      <td>47.6778</td>\n",
       "      <td>-122.389</td>\n",
       "      <td>1340</td>\n",
       "      <td>5000</td>\n",
       "    </tr>\n",
       "    <tr>\n",
       "      <th>860</th>\n",
       "      <td>1723049033</td>\n",
       "      <td>20140620T000000</td>\n",
       "      <td>245000</td>\n",
       "      <td>1</td>\n",
       "      <td>0.75</td>\n",
       "      <td>380</td>\n",
       "      <td>15000</td>\n",
       "      <td>1</td>\n",
       "      <td>0</td>\n",
       "      <td>0</td>\n",
       "      <td>...</td>\n",
       "      <td>5</td>\n",
       "      <td>380</td>\n",
       "      <td>0</td>\n",
       "      <td>1963</td>\n",
       "      <td>0</td>\n",
       "      <td>98168</td>\n",
       "      <td>47.4810</td>\n",
       "      <td>-122.323</td>\n",
       "      <td>1170</td>\n",
       "      <td>15000</td>\n",
       "    </tr>\n",
       "    <tr>\n",
       "      <th>18379</th>\n",
       "      <td>1222029077</td>\n",
       "      <td>20141029T000000</td>\n",
       "      <td>265000</td>\n",
       "      <td>0</td>\n",
       "      <td>0.75</td>\n",
       "      <td>384</td>\n",
       "      <td>213444</td>\n",
       "      <td>1</td>\n",
       "      <td>0</td>\n",
       "      <td>0</td>\n",
       "      <td>...</td>\n",
       "      <td>4</td>\n",
       "      <td>384</td>\n",
       "      <td>0</td>\n",
       "      <td>2003</td>\n",
       "      <td>0</td>\n",
       "      <td>98070</td>\n",
       "      <td>47.4177</td>\n",
       "      <td>-122.491</td>\n",
       "      <td>1920</td>\n",
       "      <td>224341</td>\n",
       "    </tr>\n",
       "    <tr>\n",
       "      <th>4868</th>\n",
       "      <td>6896300380</td>\n",
       "      <td>20141002T000000</td>\n",
       "      <td>228000</td>\n",
       "      <td>0</td>\n",
       "      <td>1.00</td>\n",
       "      <td>390</td>\n",
       "      <td>5900</td>\n",
       "      <td>1</td>\n",
       "      <td>0</td>\n",
       "      <td>0</td>\n",
       "      <td>...</td>\n",
       "      <td>4</td>\n",
       "      <td>390</td>\n",
       "      <td>0</td>\n",
       "      <td>1953</td>\n",
       "      <td>0</td>\n",
       "      <td>98118</td>\n",
       "      <td>47.5260</td>\n",
       "      <td>-122.261</td>\n",
       "      <td>2170</td>\n",
       "      <td>6000</td>\n",
       "    </tr>\n",
       "  </tbody>\n",
       "</table>\n",
       "<p>5 rows × 21 columns</p>\n",
       "</div>"
      ],
      "text/plain": [
       "               id             date   price  bedrooms  bathrooms  sqft_living  \\\n",
       "19452  3980300371  20140926T000000  142000         0       0.00          290   \n",
       "15381  2856101479  20140701T000000  276000         1       0.75          370   \n",
       "860    1723049033  20140620T000000  245000         1       0.75          380   \n",
       "18379  1222029077  20141029T000000  265000         0       0.75          384   \n",
       "4868   6896300380  20141002T000000  228000         0       1.00          390   \n",
       "\n",
       "       sqft_lot  floors  waterfront  view     ...      grade  sqft_above  \\\n",
       "19452     20875       1           0     0     ...          1         290   \n",
       "15381      1801       1           0     0     ...          5         370   \n",
       "860       15000       1           0     0     ...          5         380   \n",
       "18379    213444       1           0     0     ...          4         384   \n",
       "4868       5900       1           0     0     ...          4         390   \n",
       "\n",
       "       sqft_basement  yr_built  yr_renovated  zipcode      lat     long  \\\n",
       "19452              0      1963             0    98024  47.5308 -121.888   \n",
       "15381              0      1923             0    98117  47.6778 -122.389   \n",
       "860                0      1963             0    98168  47.4810 -122.323   \n",
       "18379              0      2003             0    98070  47.4177 -122.491   \n",
       "4868               0      1953             0    98118  47.5260 -122.261   \n",
       "\n",
       "       sqft_living15  sqft_lot15  \n",
       "19452           1620       22850  \n",
       "15381           1340        5000  \n",
       "860             1170       15000  \n",
       "18379           1920      224341  \n",
       "4868            2170        6000  \n",
       "\n",
       "[5 rows x 21 columns]"
      ]
     },
     "execution_count": 102,
     "metadata": {},
     "output_type": "execute_result"
    }
   ],
   "source": [
    "sales = sales.sort_values(by = 'sqft_living')\n",
    "sales.head()"
   ]
  },
  {
   "cell_type": "code",
   "execution_count": 17,
   "metadata": {
    "collapsed": false
   },
   "outputs": [],
   "source": [
    "poly1_data = polynomial_dataframe(sales['sqft_living'], 1)\n",
    "poly1_data['price'] = sales['price']\n",
    "\n",
    "poly"
   ]
  },
  {
   "cell_type": "code",
   "execution_count": 18,
   "metadata": {
    "collapsed": false
   },
   "outputs": [
    {
     "data": {
      "text/html": [
       "<div>\n",
       "<table border=\"1\" class=\"dataframe\">\n",
       "  <thead>\n",
       "    <tr style=\"text-align: right;\">\n",
       "      <th></th>\n",
       "      <th>power_1</th>\n",
       "      <th>price</th>\n",
       "    </tr>\n",
       "  </thead>\n",
       "  <tbody>\n",
       "    <tr>\n",
       "      <th>19452</th>\n",
       "      <td>290</td>\n",
       "      <td>142000</td>\n",
       "    </tr>\n",
       "    <tr>\n",
       "      <th>15381</th>\n",
       "      <td>370</td>\n",
       "      <td>276000</td>\n",
       "    </tr>\n",
       "    <tr>\n",
       "      <th>860</th>\n",
       "      <td>380</td>\n",
       "      <td>245000</td>\n",
       "    </tr>\n",
       "    <tr>\n",
       "      <th>18379</th>\n",
       "      <td>384</td>\n",
       "      <td>265000</td>\n",
       "    </tr>\n",
       "    <tr>\n",
       "      <th>4868</th>\n",
       "      <td>390</td>\n",
       "      <td>228000</td>\n",
       "    </tr>\n",
       "  </tbody>\n",
       "</table>\n",
       "</div>"
      ],
      "text/plain": [
       "       power_1   price\n",
       "19452      290  142000\n",
       "15381      370  276000\n",
       "860        380  245000\n",
       "18379      384  265000\n",
       "4868       390  228000"
      ]
     },
     "execution_count": 18,
     "metadata": {},
     "output_type": "execute_result"
    }
   ],
   "source": [
    "poly1_data.head()"
   ]
  },
  {
   "cell_type": "code",
   "execution_count": 19,
   "metadata": {
    "collapsed": true
   },
   "outputs": [],
   "source": [
    "from sklearn.linear_model import LinearRegression\n"
   ]
  },
  {
   "cell_type": "code",
   "execution_count": 23,
   "metadata": {
    "collapsed": false
   },
   "outputs": [
    {
     "data": {
      "text/plain": [
       "LinearRegression(copy_X=True, fit_intercept=True, n_jobs=1, normalize=False)"
      ]
     },
     "execution_count": 23,
     "metadata": {},
     "output_type": "execute_result"
    }
   ],
   "source": [
    "model1 = LinearRegression()\n",
    "model1.fit(poly1_data['power_1'].values.reshape(-1, 1), poly1_data['price'])"
   ]
  },
  {
   "cell_type": "code",
   "execution_count": 24,
   "metadata": {
    "collapsed": false
   },
   "outputs": [
    {
     "name": "stdout",
     "output_type": "stream",
     "text": [
      "[ 280.6235679]\n",
      "-43580.7430945\n"
     ]
    }
   ],
   "source": [
    "print model1.coef_\n",
    "print model1.intercept_"
   ]
  },
  {
   "cell_type": "code",
   "execution_count": 27,
   "metadata": {
    "collapsed": false
   },
   "outputs": [
    {
     "data": {
      "text/plain": [
       "[<matplotlib.lines.Line2D at 0x109db3150>,\n",
       " <matplotlib.lines.Line2D at 0x109db33d0>]"
      ]
     },
     "execution_count": 27,
     "metadata": {},
     "output_type": "execute_result"
    },
    {
     "data": {
      "image/png": "[encoded data removed]",
      "text/plain": [
       "<matplotlib.figure.Figure at 0x109d0c5d0>"
      ]
     },
     "metadata": {},
     "output_type": "display_data"
    }
   ],
   "source": [
    "import matplotlib.pyplot as plt\n",
    "%matplotlib inline\n",
    "plt.plot(poly1_data['power_1'], poly1_data['price'], '.', \n",
    "         poly1_data['power_1'], model1.predict(poly1_data['power_1'].values.reshape(-1,1)), '-')\n",
    "\n"
   ]
  },
  {
   "cell_type": "code",
   "execution_count": 135,
   "metadata": {
    "collapsed": false
   },
   "outputs": [],
   "source": [
    "poly2_data = polynomial_dataframe(sales['sqft_living'], 2)\n",
    "poly2_data['price'] = sales['price']"
   ]
  },
  {
   "cell_type": "code",
   "execution_count": 136,
   "metadata": {
    "collapsed": false
   },
   "outputs": [
    {
     "data": {
      "text/html": [
       "<div>\n",
       "<table border=\"1\" class=\"dataframe\">\n",
       "  <thead>\n",
       "    <tr style=\"text-align: right;\">\n",
       "      <th></th>\n",
       "      <th>power_1</th>\n",
       "      <th>power_2</th>\n",
       "      <th>price</th>\n",
       "    </tr>\n",
       "  </thead>\n",
       "  <tbody>\n",
       "    <tr>\n",
       "      <th>19452</th>\n",
       "      <td>290</td>\n",
       "      <td>84100</td>\n",
       "      <td>142000</td>\n",
       "    </tr>\n",
       "    <tr>\n",
       "      <th>15381</th>\n",
       "      <td>370</td>\n",
       "      <td>136900</td>\n",
       "      <td>276000</td>\n",
       "    </tr>\n",
       "    <tr>\n",
       "      <th>860</th>\n",
       "      <td>380</td>\n",
       "      <td>144400</td>\n",
       "      <td>245000</td>\n",
       "    </tr>\n",
       "    <tr>\n",
       "      <th>18379</th>\n",
       "      <td>384</td>\n",
       "      <td>147456</td>\n",
       "      <td>265000</td>\n",
       "    </tr>\n",
       "    <tr>\n",
       "      <th>4868</th>\n",
       "      <td>390</td>\n",
       "      <td>152100</td>\n",
       "      <td>228000</td>\n",
       "    </tr>\n",
       "  </tbody>\n",
       "</table>\n",
       "</div>"
      ],
      "text/plain": [
       "       power_1  power_2   price\n",
       "19452      290    84100  142000\n",
       "15381      370   136900  276000\n",
       "860        380   144400  245000\n",
       "18379      384   147456  265000\n",
       "4868       390   152100  228000"
      ]
     },
     "execution_count": 136,
     "metadata": {},
     "output_type": "execute_result"
    }
   ],
   "source": [
    "poly2_data.head()"
   ]
  },
  {
   "cell_type": "code",
   "execution_count": 130,
   "metadata": {
    "collapsed": false
   },
   "outputs": [
    {
     "data": {
      "text/plain": [
       "LinearRegression(copy_X=True, fit_intercept=True, n_jobs=1, normalize=False)"
      ]
     },
     "execution_count": 130,
     "metadata": {},
     "output_type": "execute_result"
    }
   ],
   "source": [
    "model2 = LinearRegression()\n",
    "model2.fit(poly2_data[['power_1', 'power_2']], poly1_data['price'])"
   ]
  },
  {
   "cell_type": "code",
   "execution_count": 31,
   "metadata": {
    "collapsed": false
   },
   "outputs": [
    {
     "name": "stdout",
     "output_type": "stream",
     "text": [
      "[  6.79940947e+01   3.85812609e-02]\n",
      "199222.279305\n"
     ]
    }
   ],
   "source": [
    "print model2.coef_\n",
    "print model2.intercept_\n"
   ]
  },
  {
   "cell_type": "code",
   "execution_count": 101,
   "metadata": {
    "collapsed": false
   },
   "outputs": [
    {
     "data": {
      "text/plain": [
       "[<matplotlib.lines.Line2D at 0x11073d050>,\n",
       " <matplotlib.lines.Line2D at 0x11073d290>]"
      ]
     },
     "execution_count": 101,
     "metadata": {},
     "output_type": "execute_result"
    },
    {
     "data": {
      "image/png": "[encoded data removed]",
      "text/plain": [
       "<matplotlib.figure.Figure at 0x110680d10>"
      ]
     },
     "metadata": {},
     "output_type": "display_data"
    }
   ],
   "source": [
    "plt.plot(poly2_data['power_1'], poly2_data['price'], '.', \n",
    "         poly2_data['power_1'], model2.predict(poly2_data[['power_1', 'power_2']]), '-')"
   ]
  },
  {
   "cell_type": "code",
   "execution_count": 142,
   "metadata": {
    "collapsed": false
   },
   "outputs": [
    {
     "name": "stdout",
     "output_type": "stream",
     "text": [
      "       power_1  power_2   power_3   price\n",
      "19452      290    84100  24389000  142000\n",
      "15381      370   136900  50653000  276000\n",
      "860        380   144400  54872000  245000\n",
      "18379      384   147456  56623104  265000\n",
      "4868       390   152100  59319000  228000\n"
     ]
    },
    {
     "data": {
      "text/plain": [
       "[<matplotlib.lines.Line2D at 0x113ab3ad0>,\n",
       " <matplotlib.lines.Line2D at 0x113ab3d10>]"
      ]
     },
     "execution_count": 142,
     "metadata": {},
     "output_type": "execute_result"
    },
    {
     "data": {
      "image/png": "[encoded data removed]",
      "text/plain": [
       "<matplotlib.figure.Figure at 0x112f34690>"
      ]
     },
     "metadata": {},
     "output_type": "display_data"
    }
   ],
   "source": [
    "poly3_data = polynomial_dataframe(sales['sqft_living'], 3)\n",
    "poly3_data['price'] = sales['price']\n",
    "\n",
    "model3 = LinearRegression()\n",
    "model3.fit(poly3_data[['power_1', 'power_2', 'power_3']], poly3_data['price'])\n",
    "\n",
    "#print model3.coef_\n",
    "#print model3.intercept_\n",
    "print poly3_data.head()\n",
    "\n",
    "plt.plot(poly3_data['power_1'], poly3_data['price'], '.', \n",
    "         poly3_data['power_1'], model3.predict(poly3_data[['power_1', 'power_2', 'power_3']]), '-')"
   ]
  },
  {
   "cell_type": "code",
   "execution_count": 143,
   "metadata": {
    "collapsed": false
   },
   "outputs": [
    {
     "name": "stdout",
     "output_type": "stream",
     "text": [
      "       power_1  power_2   power_3      power_4       power_5       power_6  \\\n",
      "19452      290    84100  24389000   7072810000  2.051115e+12  5.948233e+14   \n",
      "15381      370   136900  50653000  18741610000  6.934396e+12  2.565726e+15   \n",
      "860        380   144400  54872000  20851360000  7.923517e+12  3.010936e+15   \n",
      "18379      384   147456  56623104  21743271936  8.349416e+12  3.206176e+15   \n",
      "4868       390   152100  59319000  23134410000  9.022420e+12  3.518744e+15   \n",
      "\n",
      "            power_7       power_8       power_9      power_10      power_11  \\\n",
      "19452  1.724988e+17  5.002464e+19  1.450715e+22  4.207072e+24  1.220051e+27   \n",
      "15381  9.493188e+17  3.512479e+20  1.299617e+23  4.808584e+25  1.779176e+28   \n",
      "860    1.144156e+18  4.347792e+20  1.652161e+23  6.278212e+25  2.385721e+28   \n",
      "18379  1.231172e+18  4.727699e+20  1.815436e+23  6.971275e+25  2.676970e+28   \n",
      "4868   1.372310e+18  5.352009e+20  2.087284e+23  8.140406e+25  3.174758e+28   \n",
      "\n",
      "           power_12      power_13      power_14      power_15   price  \n",
      "19452  3.538148e+29  1.026063e+32  2.975582e+34  8.629189e+36  142000  \n",
      "15381  6.582952e+30  2.435692e+33  9.012061e+35  3.334463e+38  276000  \n",
      "860    9.065738e+30  3.444980e+33  1.309093e+36  4.974552e+38  245000  \n",
      "18379  1.027956e+31  3.947353e+33  1.515783e+36  5.820608e+38  265000  \n",
      "4868   1.238156e+31  4.828807e+33  1.883235e+36  7.344616e+38  228000  \n",
      "[  4.56404164e-91  -2.64606098e-50   4.63261894e-56  -2.13210389e-60\n",
      "   1.68437469e-74   2.68575522e-71   2.26147568e-67   1.85900299e-63\n",
      "   1.47144116e-59   1.09771012e-55   7.43509038e-52   4.23015578e-48\n",
      "   1.61618577e-44  -2.49283826e-48   9.59718336e-53]\n",
      "537116.329638\n",
      "       power_1  power_2   power_3      power_4       power_5       power_6  \\\n",
      "19452      290    84100  24389000   7072810000  2.051115e+12  5.948233e+14   \n",
      "15381      370   136900  50653000  18741610000  6.934396e+12  2.565726e+15   \n",
      "860        380   144400  54872000  20851360000  7.923517e+12  3.010936e+15   \n",
      "18379      384   147456  56623104  21743271936  8.349416e+12  3.206176e+15   \n",
      "4868       390   152100  59319000  23134410000  9.022420e+12  3.518744e+15   \n",
      "\n",
      "            power_7       power_8       power_9      power_10      power_11  \\\n",
      "19452  1.724988e+17  5.002464e+19  1.450715e+22  4.207072e+24  1.220051e+27   \n",
      "15381  9.493188e+17  3.512479e+20  1.299617e+23  4.808584e+25  1.779176e+28   \n",
      "860    1.144156e+18  4.347792e+20  1.652161e+23  6.278212e+25  2.385721e+28   \n",
      "18379  1.231172e+18  4.727699e+20  1.815436e+23  6.971275e+25  2.676970e+28   \n",
      "4868   1.372310e+18  5.352009e+20  2.087284e+23  8.140406e+25  3.174758e+28   \n",
      "\n",
      "           power_12      power_13      power_14      power_15   price  \n",
      "19452  3.538148e+29  1.026063e+32  2.975582e+34  8.629189e+36  142000  \n",
      "15381  6.582952e+30  2.435692e+33  9.012061e+35  3.334463e+38  276000  \n",
      "860    9.065738e+30  3.444980e+33  1.309093e+36  4.974552e+38  245000  \n",
      "18379  1.027956e+31  3.947353e+33  1.515783e+36  5.820608e+38  265000  \n",
      "4868   1.238156e+31  4.828807e+33  1.883235e+36  7.344616e+38  228000  \n"
     ]
    },
    {
     "data": {
      "text/plain": [
       "[<matplotlib.lines.Line2D at 0x114406710>,\n",
       " <matplotlib.lines.Line2D at 0x114406950>]"
      ]
     },
     "execution_count": 143,
     "metadata": {},
     "output_type": "execute_result"
    },
    {
     "data": {
      "image/png": "[encoded data removed]",
      "text/plain": [
       "<matplotlib.figure.Figure at 0x110b0c1d0>"
      ]
     },
     "metadata": {},
     "output_type": "display_data"
    }
   ],
   "source": [
    "poly15_data = polynomial_dataframe(sales['sqft_living'], 15)\n",
    "poly15_data['price'] = sales['price']\n",
    "print poly15_data.head()\n",
    "\n",
    "model15 = LinearRegression()\n",
    "model15.fit(poly15_data[['power_1', 'power_2', 'power_3', 'power_4', 'power_5', 'power_6', 'power_7', 'power_8', 'power_9', 'power_10', 'power_11', 'power_12', 'power_13', 'power_14', 'power_15']], poly15_data['price'])\n",
    "\n",
    "print model15.coef_\n",
    "print model15.intercept_\n",
    "print poly15_data.head()\n",
    "\n",
    "plt.plot(poly15_data['power_1'], poly15_data['price'], '.', \n",
    "         poly15_data['power_1'], model15.predict(poly15_data[['power_1', 'power_2', 'power_3', 'power_4', 'power_5', 'power_6', 'power_7', 'power_8', 'power_9', 'power_10', 'power_11', 'power_12', 'power_13', 'power_14', 'power_15']]), '-')"
   ]
  },
  {
   "cell_type": "code",
   "execution_count": 144,
   "metadata": {
    "collapsed": false
   },
   "outputs": [
    {
     "name": "stdout",
     "output_type": "stream",
     "text": [
      "[  1.64434217e-78   5.49570854e-41  -1.49358851e-46   3.84872909e-51\n",
      "  -2.87485915e-55   1.02994536e-58   1.76133638e-56   6.92533541e-53\n",
      "   2.52158393e-49   8.13180979e-46   2.12182903e-42   3.49674784e-39\n",
      "  -1.51135152e-42   2.15708834e-46  -1.01863598e-50]\n",
      "536736.125543\n"
     ]
    },
    {
     "data": {
      "text/plain": [
       "[<matplotlib.lines.Line2D at 0x115469890>,\n",
       " <matplotlib.lines.Line2D at 0x115469ad0>]"
      ]
     },
     "execution_count": 144,
     "metadata": {},
     "output_type": "execute_result"
    },
    {
     "data": {
      "image/png": "[encoded data removed]",
      "text/plain": [
       "<matplotlib.figure.Figure at 0x11504b490>"
      ]
     },
     "metadata": {},
     "output_type": "display_data"
    }
   ],
   "source": [
    "sales_part1 = pd.read_csv('wk3_kc_house_set_1_data.csv')\n",
    "sales_part1 = sales_part1.sort_values(by = 'sqft_living')\n",
    "\n",
    "part1_data = polynomial_dataframe(sales_part1['sqft_living'], 15)\n",
    "part1_data['price'] = sales['price']\n",
    "\n",
    "p1_model15 = LinearRegression()\n",
    "p1_model15.fit(part1_data[['power_1', 'power_2', 'power_3', 'power_4', \n",
    "                           'power_5', 'power_6', 'power_7', 'power_8', \n",
    "                           'power_9', 'power_10', 'power_11', 'power_12', \n",
    "                           'power_13', 'power_14', 'power_15']], part1_data['price'])\n",
    "\n",
    "print p1_model15.coef_\n",
    "print p1_model15.intercept_\n",
    "\n",
    "plt.plot(part1_data['power_1'], part1_data['price'], '.', \n",
    "         part1_data['power_1'], p1_model15.predict(part1_data[['power_1', 'power_2', 'power_3', 'power_4', \n",
    "                                                            'power_5', 'power_6', 'power_7', 'power_8', \n",
    "                                                            'power_9', 'power_10', 'power_11', 'power_12', \n",
    "                                                            'power_13', 'power_14', 'power_15']]), '-')"
   ]
  },
  {
   "cell_type": "code",
   "execution_count": 145,
   "metadata": {
    "collapsed": false
   },
   "outputs": [
    {
     "name": "stdout",
     "output_type": "stream",
     "text": [
      "[  2.51447026e-90   1.83872378e-50   1.54628566e-56   8.78755213e-61\n",
      "   2.38584671e-74   5.48234076e-71   3.71944423e-67   2.46328648e-63\n",
      "   1.57208262e-59   9.47017054e-56   5.18995859e-52   2.39496293e-48\n",
      "   7.44238173e-45  -1.44183048e-48   6.84227760e-53]\n",
      "536737.260984\n"
     ]
    },
    {
     "data": {
      "text/plain": [
       "[<matplotlib.lines.Line2D at 0x115fc6910>,\n",
       " <matplotlib.lines.Line2D at 0x115fc6b50>]"
      ]
     },
     "execution_count": 145,
     "metadata": {},
     "output_type": "execute_result"
    },
    {
     "data": {
      "image/png": "[encoded data removed]",
      "text/plain": [
       "<matplotlib.figure.Figure at 0x115d03c90>"
      ]
     },
     "metadata": {},
     "output_type": "display_data"
    }
   ],
   "source": [
    "sales_part2 = pd.read_csv('wk3_kc_house_set_2_data.csv')\n",
    "sales_part2 = sales_part2.sort_values(by = 'sqft_living')\n",
    "\n",
    "part2_data = polynomial_dataframe(sales_part2['sqft_living'], 15)\n",
    "part2_data['price'] = sales['price']\n",
    "\n",
    "p2_model15 = LinearRegression()\n",
    "p2_model15.fit(part2_data[['power_1', 'power_2', 'power_3', 'power_4', \n",
    "                           'power_5', 'power_6', 'power_7', 'power_8', \n",
    "                           'power_9', 'power_10', 'power_11', 'power_12', \n",
    "                           'power_13', 'power_14', 'power_15']], part2_data['price'])\n",
    "\n",
    "print p2_model15.coef_\n",
    "print p2_model15.intercept_\n",
    "\n",
    "plt.plot(part2_data['power_1'], part2_data['price'], '.', \n",
    "         part2_data['power_1'], p2_model15.predict(part2_data[['power_1', 'power_2', 'power_3', 'power_4', \n",
    "                                                            'power_5', 'power_6', 'power_7', 'power_8', \n",
    "                                                            'power_9', 'power_10', 'power_11', 'power_12', \n",
    "                                                            'power_13', 'power_14', 'power_15']]), '-')"
   ]
  },
  {
   "cell_type": "code",
   "execution_count": 146,
   "metadata": {
    "collapsed": false
   },
   "outputs": [
    {
     "name": "stdout",
     "output_type": "stream",
     "text": [
      "[ -3.95653712e-80   2.03584390e-41   5.46455396e-47   2.81010214e-52\n",
      "  -1.15210418e-55   2.55509039e-59  -1.12340621e-57  -5.29104992e-54\n",
      "  -2.31228844e-50  -8.96510453e-47  -2.81665386e-43  -5.59697897e-40\n",
      "   2.18188665e-43  -2.72362411e-47   1.10187042e-51]\n",
      "536514.535948\n"
     ]
    },
    {
     "data": {
      "text/plain": [
       "[<matplotlib.lines.Line2D at 0x1158f2a10>,\n",
       " <matplotlib.lines.Line2D at 0x1158f2c50>]"
      ]
     },
     "execution_count": 146,
     "metadata": {},
     "output_type": "execute_result"
    },
    {
     "data": {
      "image/png": "[encoded data removed]",
      "text/plain": [
       "<matplotlib.figure.Figure at 0x114e55950>"
      ]
     },
     "metadata": {},
     "output_type": "display_data"
    }
   ],
   "source": [
    "sales_part3 = pd.read_csv('wk3_kc_house_set_3_data.csv')\n",
    "sales_part3 = sales_part3.sort_values(by = 'sqft_living')\n",
    "\n",
    "part3_data = polynomial_dataframe(sales_part3['sqft_living'], 15)\n",
    "part3_data['price'] = sales['price']\n",
    "\n",
    "p3_model15 = LinearRegression()\n",
    "p3_model15.fit(part3_data[['power_1', 'power_2', 'power_3', 'power_4', \n",
    "                           'power_5', 'power_6', 'power_7', 'power_8', \n",
    "                           'power_9', 'power_10', 'power_11', 'power_12', \n",
    "                           'power_13', 'power_14', 'power_15']], part3_data['price'])\n",
    "\n",
    "print p3_model15.coef_\n",
    "print p3_model15.intercept_\n",
    "\n",
    "plt.plot(part3_data['power_1'], part3_data['price'], '.', \n",
    "         part3_data['power_1'], p3_model15.predict(part3_data[['power_1', 'power_2', 'power_3', 'power_4', \n",
    "                                                            'power_5', 'power_6', 'power_7', 'power_8', \n",
    "                                                            'power_9', 'power_10', 'power_11', 'power_12', \n",
    "                                                            'power_13', 'power_14', 'power_15']]), '-')"
   ]
  },
  {
   "cell_type": "code",
   "execution_count": 147,
   "metadata": {
    "collapsed": false
   },
   "outputs": [
    {
     "name": "stdout",
     "output_type": "stream",
     "text": [
      "[ -6.20390434e-91  -3.63336209e-50   1.53369352e-56   4.31795045e-62\n",
      "  -2.26792375e-75  -1.18534766e-71  -7.89503189e-68  -5.16358997e-64\n",
      "  -3.27635882e-60  -1.97672129e-56  -1.09349685e-52  -5.13507858e-49\n",
      "  -1.63739098e-45   2.91973551e-49  -1.26326503e-53]\n",
      "537019.503993\n"
     ]
    },
    {
     "data": {
      "text/plain": [
       "[<matplotlib.lines.Line2D at 0x112cef790>,\n",
       " <matplotlib.lines.Line2D at 0x112cef9d0>]"
      ]
     },
     "execution_count": 147,
     "metadata": {},
     "output_type": "execute_result"
    },
    {
     "data": {
      "image/png": "[encoded data removed]",
      "text/plain": [
       "<matplotlib.figure.Figure at 0x114e4d050>"
      ]
     },
     "metadata": {},
     "output_type": "display_data"
    }
   ],
   "source": [
    "sales_part4 = pd.read_csv('wk3_kc_house_set_4_data.csv')\n",
    "sales_part4 = sales_part4.sort_values(by = 'sqft_living')\n",
    "\n",
    "part4_data = polynomial_dataframe(sales_part4['sqft_living'], 15)\n",
    "part4_data['price'] = sales['price']\n",
    "\n",
    "p4_model15 = LinearRegression()\n",
    "p4_model15.fit(part4_data[['power_1', 'power_2', 'power_3', 'power_4', \n",
    "                           'power_5', 'power_6', 'power_7', 'power_8', \n",
    "                           'power_9', 'power_10', 'power_11', 'power_12', \n",
    "                           'power_13', 'power_14', 'power_15']], part4_data['price'])\n",
    "\n",
    "print p4_model15.coef_\n",
    "print p4_model15.intercept_\n",
    "\n",
    "plt.plot(part4_data['power_1'], part4_data['price'], '.', \n",
    "         part4_data['power_1'], p4_model15.predict(part4_data[['power_1', 'power_2', 'power_3', 'power_4', \n",
    "                                                            'power_5', 'power_6', 'power_7', 'power_8', \n",
    "                                                            'power_9', 'power_10', 'power_11', 'power_12', \n",
    "                                                            'power_13', 'power_14', 'power_15']]), '-')"
   ]
  },
  {
   "cell_type": "code",
   "execution_count": 148,
   "metadata": {
    "collapsed": true
   },
   "outputs": [],
   "source": [
    "sales_train = pd.read_csv('wk3_kc_house_train_data.csv')\n",
    "sales_test = pd.read_csv('wk3_kc_house_test_data.csv')\n",
    "sales_valid = pd.read_csv('wk3_kc_house_valid_data.csv')"
   ]
  },
  {
   "cell_type": "code",
   "execution_count": 149,
   "metadata": {
    "collapsed": false
   },
   "outputs": [
    {
     "name": "stdout",
     "output_type": "stream",
     "text": [
      "[ 288.59846375]\n",
      "[ 1.22673842  0.0522949 ]\n",
      "[  7.50292074e+00   5.03063603e-02   1.67090667e-07]\n",
      "[ -1.53852721e+01   6.08970906e-02  -1.61496571e-06   9.11725261e-11]\n",
      "[  3.19604020e-05   5.44376194e-02  -6.35220167e-07   4.74146643e-11\n",
      "  -2.01032028e-16]\n",
      "[  8.50063281e-12   1.43263228e-08   3.79412700e-05  -9.89794221e-09\n",
      "   1.06074704e-12  -3.90874334e-17]\n",
      "[  8.80209177e-19  -1.70115582e-11   8.65371049e-12   1.40282350e-08\n",
      "  -4.30479447e-12   4.64795699e-16  -1.67447601e-20]\n",
      "[  5.37676814e-26  -5.00854585e-15   9.15100691e-19   2.17475857e-15\n",
      "   3.74718437e-12  -1.17819508e-15   1.24986835e-19  -4.38361131e-24]\n",
      "[  2.35440809e-33   5.55324738e-18  -4.85123872e-23   1.61351027e-22\n",
      "   4.53006377e-19   8.23523085e-16  -2.58575972e-19   2.69914449e-23\n",
      "  -9.28484969e-28]\n",
      "[  8.10194270e-41   1.71840929e-21  -7.27850639e-27   7.87234322e-30\n",
      "   2.82989842e-26   8.32511110e-23   1.58082448e-19  -4.93871231e-23\n",
      "   5.10007290e-27  -1.73354179e-31]\n",
      "[  2.32096277e-48   2.39356588e-25   9.86650146e-31  -8.43391771e-35\n",
      "   1.22821493e-33   4.56464992e-30   1.39644941e-26   2.74435909e-23\n",
      "  -8.53531135e-27   8.75400297e-31  -2.95408154e-35]\n",
      "[  5.86320916e-56   1.36182888e-28   5.32940469e-35  -8.55380639e-39\n",
      "   4.22486769e-41   1.81055553e-37   6.96805453e-34   2.19878993e-30\n",
      "   4.43779624e-27  -1.37573213e-30   1.40489759e-34  -4.71991120e-39]\n",
      "[  1.51503805e-73  -5.39749153e-42   2.85715841e-47  -9.14727598e-52\n",
      "   8.66478085e-58   2.61981981e-54   1.65074167e-50   9.86650488e-47\n",
      "   5.38893090e-43   2.48790292e-39   7.75959524e-36  -1.39618816e-39\n",
      "   6.24901286e-44]\n",
      "[  2.35065885e-81  -3.31020261e-45   6.38021066e-51  -4.44352733e-56\n",
      "   1.65009618e-65   4.76035720e-62   3.14955042e-58   2.01353491e-54\n",
      "   1.21821264e-50   6.72101619e-47   3.12875226e-43   9.82528405e-40\n",
      "  -1.77391184e-43   7.95992831e-48]\n",
      "[  3.65649652e-89  -7.49637497e-49   2.77182321e-55   2.41791037e-60\n",
      "   2.43036888e-73   8.36182560e-70   5.73133489e-66   3.83786524e-62\n",
      "   2.47884969e-58   1.51269750e-54   8.40594099e-51   3.93663091e-47\n",
      "   1.24240972e-43  -2.25041880e-47   1.01236550e-51]\n",
      "[629097886299587.4, 623955062706519.5, 625820280251629.0, 629987339076002.0, 628238341361132.1, 566268588321907.5, 1073839023439058.1, 7087862212581904.0, 4.52994509219055e+16, 2.4757416617498474e+17, 1.1941902221281155e+18, 5.251111804036147e+18, 7.616230021302026e+17, 2.2975609250102426e+18, 6.955038098773207e+18]\n",
      "5 5.66268588322e+14\n"
     ]
    }
   ],
   "source": [
    "poly_data = {}\n",
    "valid_data = {}\n",
    "model = {}\n",
    "rss_list = []\n",
    "\n",
    "for i in range(1, 16):\n",
    "    valid_data[i] = polynomial_dataframe(sales_valid['sqft_living'], i)\n",
    "    valid_data[i]['price'] = sales_valid['price']\n",
    "    \n",
    "    poly_data[i] = polynomial_dataframe(sales_train['sqft_living'], i)\n",
    "    poly_data[i]['price'] = sales_train['price']\n",
    "    \n",
    "    model[i] = LinearRegression()\n",
    "    cols = list(poly_data[i].columns.values)\n",
    "    cols = cols[:-1]\n",
    "\n",
    "    if i == 1:\n",
    "        X = poly_data[i][cols].values.reshape((-1, 1))\n",
    "        valid_X = valid_data[i][cols].values.reshape((-1, 1))\n",
    "    else:\n",
    "        X = poly_data[i][cols]\n",
    "        valid_X = valid_data[i][cols]\n",
    "        \n",
    "    model[i].fit(X, sales_train['price'])\n",
    "    \n",
    "    print model[i].coef_\n",
    "    \n",
    "    rss  = (model[i].predict(valid_X) - sales_valid['price']) ** 2\n",
    "    rss = np.sum(rss)\n",
    "    rss_list.append(rss)\n",
    "    \n",
    "print rss_list\n",
    "print np.argmin(rss_list), np.min(rss_list)"
   ]
  },
  {
   "cell_type": "code",
   "execution_count": 150,
   "metadata": {
    "collapsed": false
   },
   "outputs": [
    {
     "name": "stdout",
     "output_type": "stream",
     "text": [
      "1.35542039274e+14\n"
     ]
    }
   ],
   "source": [
    "test_data = polynomial_dataframe(sales_test['sqft_living'], 2)\n",
    "test_data['price'] = sales_test['price']\n",
    "\n",
    "print np.sum((test_data['price'] - model[2].predict(test_data[['power_1', 'power_2']])) ** 2)"
   ]
  },
  {
   "cell_type": "code",
   "execution_count": 151,
   "metadata": {
    "collapsed": false
   },
   "outputs": [
    {
     "name": "stdout",
     "output_type": "stream",
     "text": [
      "1.42347931359e+14\n"
     ]
    }
   ],
   "source": [
    "test_data = polynomial_dataframe(sales_test['sqft_living'], 1)\n",
    "test_data['price'] = sales_test['price']\n",
    "\n",
    "print np.sum((test_data['price'] - model[1].predict(test_data['power_1'].values.reshape(-1, 1))) ** 2)"
   ]
  },
  {
   "cell_type": "code",
   "execution_count": 152,
   "metadata": {
    "collapsed": false
   },
   "outputs": [
    {
     "name": "stdout",
     "output_type": "stream",
     "text": [
      "1.35585996079e+14\n"
     ]
    }
   ],
   "source": [
    "test_data = polynomial_dataframe(sales_test['sqft_living'], 3)\n",
    "test_data['price'] = sales_test['price']\n",
    "\n",
    "print np.sum((test_data['price'] - model[3].predict(test_data[['power_1', 'power_2', 'power_3']])) ** 2)"
   ]
  },
  {
   "cell_type": "code",
   "execution_count": 153,
   "metadata": {
    "collapsed": false
   },
   "outputs": [
    {
     "name": "stdout",
     "output_type": "stream",
     "text": [
      "1.35225114558e+14\n"
     ]
    }
   ],
   "source": [
    "test_data = polynomial_dataframe(sales_test['sqft_living'], 6)\n",
    "test_data['price'] = sales_test['price']\n",
    "\n",
    "print np.sum((test_data['price'] - model[6].predict(test_data[['power_1', 'power_2', 'power_3', 'power_4', 'power_5', 'power_6']])) ** 2)"
   ]
  },
  {
   "cell_type": "code",
   "execution_count": null,
   "metadata": {
    "collapsed": true
   },
   "outputs": [],
   "source": []
  }
 ],
 "metadata": {
  "kernelspec": {
   "display_name": "Python 2",
   "language": "python",
   "name": "python2"
  },
  "language_info": {
   "codemirror_mode": {
    "name": "ipython",
    "version": 2
   },
   "file_extension": ".py",
   "mimetype": "text/x-python",
   "name": "python",
   "nbconvert_exporter": "python",
   "pygments_lexer": "ipython2",
   "version": "2.7.10"
  }
 },
 "nbformat": 4,
 "nbformat_minor": 0
}
